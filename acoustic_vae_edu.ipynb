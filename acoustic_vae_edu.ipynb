{
 "cells": [
  {
   "cell_type": "markdown",
   "metadata": {},
   "source": [
    "라이브러리 버전"
   ]
  },
  {
   "cell_type": "code",
   "execution_count": null,
   "metadata": {},
   "outputs": [
    {
     "name": "stdout",
     "output_type": "stream",
     "text": [
      "Package                      Version\n",
      "---------------------------- ---------\n",
      "about-time                   4.2.1\n",
      "absl-py                      1.4.0\n",
      "alembic                      1.11.1\n",
      "alive-progress               3.1.5\n",
      "anyio                        3.7.0\n",
      "argon2-cffi                  21.3.0\n",
      "argon2-cffi-bindings         21.2.0\n",
      "astor                        0.8.1\n",
      "astunparse                   1.6.3\n",
      "attrs                        23.1.0\n",
      "autograd                     1.6.2\n",
      "backcall                     0.2.0\n",
      "beautifulsoup4               4.12.2\n",
      "bleach                       6.0.0\n",
      "cachetools                   5.3.1\n",
      "catboost                     1.2\n",
      "certifi                      2023.5.7\n",
      "cffi                         1.15.1\n",
      "charset-normalizer           3.1.0\n",
      "cloudpickle                  2.2.1\n",
      "cma                          3.2.2\n",
      "cmaes                        0.9.1\n",
      "colorama                     0.4.6\n",
      "colorlog                     6.7.0\n",
      "cycler                       0.11.0\n",
      "debugpy                      1.6.7\n",
      "decorator                    5.1.1\n",
      "DeepXDE                      1.8.3\n",
      "defusedxml                   0.7.1\n",
      "Deprecated                   1.2.18\n",
      "dill                         0.3.7\n",
      "dm-tree                      0.1.8\n",
      "easydict                     1.13\n",
      "eli5                         0.13.0\n",
      "entrypoints                  0.4\n",
      "exceptiongroup               1.1.2\n",
      "ezdxf                        1.0.3\n",
      "fastjsonschema               2.17.1\n",
      "flatbuffers                  23.5.26\n",
      "fonttools                    4.38.0\n",
      "future                       1.0.0\n",
      "gast                         0.4.0\n",
      "google-auth                  2.19.1\n",
      "google-auth-oauthlib         0.4.6\n",
      "google-pasta                 0.2.0\n",
      "grapheme                     0.6.0\n",
      "graphviz                     0.20.1\n",
      "greenlet                     2.0.2\n",
      "grpcio                       1.54.2\n",
      "h11                          0.14.0\n",
      "h5py                         3.8.0\n",
      "httpcore                     0.17.2\n",
      "httpx                        0.24.1\n",
      "idna                         3.4\n",
      "imageio                      2.31.2\n",
      "importlib-metadata           6.6.0\n",
      "importlib-resources          5.12.0\n",
      "ipykernel                    6.16.2\n",
      "ipython                      7.34.0\n",
      "ipython-genutils             0.2.0\n",
      "ipywidgets                   8.0.6\n",
      "jedi                         0.18.2\n",
      "Jinja2                       3.1.2\n",
      "joblib                       1.2.0\n",
      "JPype1                       1.4.1\n",
      "jsonschema                   4.17.3\n",
      "jupyter                      1.0.0\n",
      "jupyter_client               7.4.9\n",
      "jupyter-console              6.6.3\n",
      "jupyter_core                 4.12.0\n",
      "jupyter-server               1.24.0\n",
      "jupyterlab-pygments          0.2.2\n",
      "jupyterlab-widgets           3.0.7\n",
      "keras                        2.11.0\n",
      "kiwisolver                   1.4.4\n",
      "libclang                     16.0.0\n",
      "lightgbm                     2.2.3\n",
      "llvmlite                     0.39.1\n",
      "Mako                         1.2.4\n",
      "Markdown                     3.4.3\n",
      "MarkupSafe                   2.1.3\n",
      "matplotlib                   3.5.3\n",
      "matplotlib-inline            0.1.6\n",
      "mhp                          0.1.3.4\n",
      "mistune                      3.0.1\n",
      "MPh                          1.2.3\n",
      "nbclassic                    1.0.0\n",
      "nbclient                     0.7.4\n",
      "nbconvert                    7.6.0\n",
      "nbformat                     5.8.0\n",
      "nest-asyncio                 1.5.6\n",
      "networkx                     2.6.3\n",
      "notebook                     6.5.4\n",
      "notebook_shim                0.2.3\n",
      "numba                        0.56.4\n",
      "numpy                        1.21.6\n",
      "oauthlib                     3.2.2\n",
      "opencv-contrib-python        4.9.0.80\n",
      "opencv-python                4.9.0.80\n",
      "opt-einsum                   3.3.0\n",
      "optuna                       3.2.0\n",
      "packaging                    23.1\n",
      "paddle-bfloat                0.1.7\n",
      "paddlepaddle                 0.0.0\n",
      "pandas                       1.3.5\n",
      "pandocfilters                1.5.0\n",
      "parso                        0.8.3\n",
      "pickleshare                  0.7.5\n",
      "Pillow                       9.5.0\n",
      "pip                          24.0\n",
      "pkgutil_resolve_name         1.3.10\n",
      "plotly                       5.14.1\n",
      "prometheus-client            0.17.1\n",
      "prompt-toolkit               3.0.38\n",
      "protobuf                     3.19.6\n",
      "psutil                       5.9.5\n",
      "pyaml                        23.5.8\n",
      "pyasn1                       0.5.0\n",
      "pyasn1-modules               0.3.0\n",
      "pycparser                    2.21\n",
      "pydot                        1.4.2\n",
      "Pygments                     2.15.1\n",
      "pymoo                        0.6.1.1\n",
      "pyparsing                    3.0.9\n",
      "pyrsistent                   0.19.3\n",
      "python-dateutil              2.8.2\n",
      "pytz                         2023.3\n",
      "PyWavelets                   1.3.0\n",
      "pywin32                      306\n",
      "pywinpty                     2.0.10\n",
      "PyYAML                       6.0\n",
      "pyzmq                        25.1.0\n",
      "qtconsole                    5.4.3\n",
      "QtPy                         2.3.1\n",
      "rdkit                        2023.3.2\n",
      "requests                     2.31.0\n",
      "requests-oauthlib            1.3.1\n",
      "rsa                          4.9\n",
      "scikit-image                 0.19.3\n",
      "scikit-learn                 1.0.2\n",
      "scikit-optimize              0.9.0\n",
      "scipy                        1.7.3\n",
      "seaborn                      0.11.0\n",
      "Send2Trash                   1.8.2\n",
      "setuptools                   67.8.0\n",
      "shap                         0.42.0\n",
      "six                          1.16.0\n",
      "sklearn                      0.0.post7\n",
      "slicer                       0.0.7\n",
      "sniffio                      1.3.0\n",
      "soupsieve                    2.4.1\n",
      "SQLAlchemy                   2.0.16\n",
      "tabulate                     0.9.0\n",
      "tenacity                     8.2.2\n",
      "tensorboard                  2.11.2\n",
      "tensorboard-data-server      0.6.1\n",
      "tensorboard-plugin-wit       1.8.1\n",
      "tensorflow                   2.11.0\n",
      "tensorflow-estimator         2.11.0\n",
      "tensorflow-intel             2.11.0\n",
      "tensorflow-io-gcs-filesystem 0.31.0\n",
      "tensorflow-probability       0.19.0\n",
      "termcolor                    2.3.0\n",
      "terminado                    0.17.1\n",
      "threadpoolctl                3.1.0\n",
      "tifffile                     2021.11.2\n",
      "tinycss2                     1.2.1\n",
      "torch                        1.13.1\n",
      "torchinfo                    1.8.0\n",
      "torchvision                  0.14.1\n",
      "tornado                      6.2\n",
      "tqdm                         4.65.0\n",
      "traitlets                    5.9.0\n",
      "typing_extensions            4.6.3\n",
      "urllib3                      1.26.16\n",
      "wcwidth                      0.2.6\n",
      "webencodings                 0.5.1\n",
      "websocket-client             1.6.1\n",
      "Werkzeug                     2.2.3\n",
      "wheel                        0.40.0\n",
      "widgetsnbextension           4.0.7\n",
      "wrapt                        1.15.0\n",
      "xgboost                      1.6.2\n",
      "zipp                         3.15.0\n"
     ]
    }
   ],
   "source": [
    "# (파이썬 버전 : 3.7.9)\n",
    "# 중요 라이브러리 버전\n",
    "# tensorflow : 2.11.0    \n",
    "# pymoo : 0.6.1.1    \n",
    "# matplotlib : 3.5.3    \n",
    "# scikit-learn : 0.0.post7    \n",
    "# numpy : 1.21.6"
   ]
  },
  {
   "cell_type": "code",
   "execution_count": null,
   "metadata": {},
   "outputs": [],
   "source": [
    "!pip install tensorflow==2.12.0\n",
    "# 또는\n",
    "# !pip install tensorflow==2.11.0"
   ]
  },
  {
   "cell_type": "markdown",
   "metadata": {},
   "source": [
    "# 데이터 불러오기"
   ]
  },
  {
   "cell_type": "markdown",
   "metadata": {},
   "source": [
    "## git clone 활용"
   ]
  },
  {
   "cell_type": "code",
   "execution_count": null,
   "metadata": {},
   "outputs": [],
   "source": [
    "# GitHub 저장소 클론\n",
    "!git clone https://github.com/srpark9187/DIC2025.git\n",
    "\n",
    "# 작업 경로 이동\n",
    "%cd DIC2025"
   ]
  },
  {
   "cell_type": "code",
   "execution_count": null,
   "metadata": {},
   "outputs": [],
   "source": [
    "import zipfile\n",
    "import os\n",
    "\n",
    "# 압축 파일들이 들어 있는 폴더 경로\n",
    "data_folder = './data'\n",
    "\n",
    "# data 폴더 내 모든 zip 파일을 대상으로 압축 해제\n",
    "for filename in os.listdir(data_folder):\n",
    "    if filename.endswith('.zip'):\n",
    "        zip_path = os.path.join(data_folder, filename)\n",
    "\n",
    "        print(f\"🔓 압축 해제 중: {filename} → {data_folder}\")\n",
    "\n",
    "        with zipfile.ZipFile(zip_path, 'r') as zip_ref:\n",
    "            zip_ref.extractall(data_folder)  # 하위 폴더 없이 현재 data 폴더로 해제\n",
    "\n",
    "print(\"✅ 모든 zip 파일 압축 해제 완료 (하위폴더 없이)!\")\n"
   ]
  },
  {
   "cell_type": "code",
   "execution_count": null,
   "metadata": {},
   "outputs": [],
   "source": [
    "# 분할된 폴더 통합\n",
    "!cat ./model/inverse_design.zip.* > ./model/inverse_design_combined.zip\n",
    "\n",
    "# 압축 해제 (기존처럼 해제)\n",
    "!unzip ./model/inverse_design_combined.zip -d ./model/"
   ]
  },
  {
   "cell_type": "markdown",
   "metadata": {},
   "source": [
    "## 구글 드라이브 활용"
   ]
  },
  {
   "cell_type": "markdown",
   "metadata": {},
   "source": [
    "- https://bit.ly/4n1PWFn 주소를 통한 DIC2025 폴더 다운로드\n",
    "- colab 에서 구글 드라이브 연동\n",
    "- 아래 코드 실행"
   ]
  },
  {
   "cell_type": "code",
   "execution_count": null,
   "metadata": {},
   "outputs": [],
   "source": [
    "from google.colab import drive\n",
    "drive.mount('/content/drive')"
   ]
  },
  {
   "cell_type": "code",
   "execution_count": null,
   "metadata": {},
   "outputs": [],
   "source": [
    "import os\n",
    "\n",
    "# 작업 폴더 이동\n",
    "os.chdir('/content/drive/MyDrive/DIC2025')\n",
    "print(\"현재 작업 경로:\", os.getcwd())\n"
   ]
  },
  {
   "cell_type": "markdown",
   "metadata": {},
   "source": [
    "# VAE를 통한 목표 소음 저감 성능을 만족하는 통기성 소음 감쇠기 구조 역설계"
   ]
  },
  {
   "cell_type": "markdown",
   "metadata": {},
   "source": [
    "![overall_flow](picture/overall_flow.png)"
   ]
  },
  {
   "cell_type": "markdown",
   "metadata": {},
   "source": [
    "VAE를 통한 통기성 소음 감쇠기(Ventilated acoustic resonator) 역설계\n",
    "- 음향 반응(Acoustic Response) 을 입력하면 다양한 통기성 소음 감쇠기 구조를 생성하는 인공지능 모델\n",
    "- VAE 구조를 통해 통기성 소음 감쇠기 구조 학습하여 이미지 분포 생성\n",
    "- VAE 구조의 잠재 공간(Latent space) 과 차원 축소된 음향 반응을 결합하여 감쇠기 구조와 음향 반응을 반영한 새로운 형태의 감쇠기 구조 생성 목표"
   ]
  },
  {
   "cell_type": "code",
   "execution_count": 1,
   "metadata": {},
   "outputs": [],
   "source": [
    "from random import sample\n",
    "from re import T\n",
    "import matplotlib.pyplot as plt\n",
    "import numpy as np\n",
    "import tensorflow as tf\n",
    "import time\n",
    "from sklearn.model_selection import train_test_split\n",
    "import pandas as pd\n",
    "import cv2\n",
    "from sklearn.cluster import KMeans\n",
    "import matplotlib.pyplot as plt\n",
    "from sklearn import preprocessing\n",
    "from sklearn.preprocessing import StandardScaler\n",
    "from sklearn.decomposition import PCA\n",
    "import matplotlib.pyplot as plt\n",
    "import matplotlib as mlp\n",
    "from sklearn.mixture import GaussianMixture\n",
    "from sklearn.cluster import MeanShift, estimate_bandwidth\n"
   ]
  },
  {
   "cell_type": "markdown",
   "metadata": {},
   "source": [
    "# 통기성 소음 감쇠기 데이터 불러오기"
   ]
  },
  {
   "cell_type": "code",
   "execution_count": null,
   "metadata": {},
   "outputs": [],
   "source": [
    "# GitHub 저장소 클론\n",
    "!git clone https://github.com/srpark9187/DIC2025.git\n",
    "\n",
    "# 작업 경로 이동\n",
    "%cd DIC2025"
   ]
  },
  {
   "cell_type": "code",
   "execution_count": null,
   "metadata": {},
   "outputs": [],
   "source": [
    "import zipfile\n",
    "import os\n",
    "\n",
    "# 압축 파일들이 들어 있는 폴더 경로\n",
    "data_folder = './data'\n",
    "\n",
    "# data 폴더 내 모든 zip 파일을 대상으로 압축 해제\n",
    "for filename in os.listdir(data_folder):\n",
    "    if filename.endswith('.zip'):\n",
    "        zip_path = os.path.join(data_folder, filename)\n",
    "\n",
    "        print(f\"🔓 압축 해제 중: {filename} → {data_folder}\")\n",
    "\n",
    "        with zipfile.ZipFile(zip_path, 'r') as zip_ref:\n",
    "            zip_ref.extractall(data_folder)  # 하위 폴더 없이 현재 data 폴더로 해제\n",
    "\n",
    "print(\"✅ 모든 zip 파일 압축 해제 완료 (하위폴더 없이)!\")\n"
   ]
  },
  {
   "cell_type": "code",
   "execution_count": null,
   "metadata": {},
   "outputs": [],
   "source": [
    "# 분할된 폴더 통합\n",
    "!cat ./model/inverse_design.zip.* > ./model/inverse_design_combined.zip\n",
    "\n",
    "# 압축 해제 (기존처럼 해제)\n",
    "!unzip ./model/inverse_design_combined.zip -d ./model/"
   ]
  },
  {
   "cell_type": "markdown",
   "metadata": {},
   "source": [
    "## 이미지 및 시뮬레이션 결과 데이터 불러오기"
   ]
  },
  {
   "cell_type": "markdown",
   "metadata": {},
   "source": [
    "구조 파라미터 : 이미지로 저장 시 불러오는 시간 소요 증가. 따라서 구조 파라미터를 불러온 후 이미지로 변환  \n",
    "시뮬레이션 결과 : 1~1961Hz 를 40Hz 간격으로 총 50개의 Hz에 대한 투과 손실(Transmission loss) 데이터 → 학습을 위해 (dataset 개수, 50, 1)로 reshape\n",
    "\n",
    "Train dataset : 37,345개  \n",
    "Test dataset : 16,005개\n",
    "Total dataset : 53,350개"
   ]
  },
  {
   "cell_type": "markdown",
   "metadata": {},
   "source": [
    "![data_](picture/data_.png)"
   ]
  },
  {
   "cell_type": "markdown",
   "metadata": {},
   "source": [
    "Q1.    \n",
    "data - inverse_design 폴더 내 accept2_parameter_train.csv 파일 불러오기"
   ]
  },
  {
   "cell_type": "code",
   "execution_count": null,
   "metadata": {},
   "outputs": [],
   "source": [
    "parameter_train = np.array(pd.read_csv(    Q1    ,header=None))\n",
    "parameter_test = np.array(pd.read_csv('data/inverse_design/accept2_parameter_test.csv',header=None))\n",
    "train_TL = np.array(pd.read_csv('data/inverse_design/accept2_TL_train.csv',header=None)).reshape(37345,50,1)\n",
    "test_TL = np.array(pd.read_csv('data/inverse_design/accept2_TL_test.csv',header=None)).reshape(16005,50,1)"
   ]
  },
  {
   "cell_type": "markdown",
   "metadata": {},
   "source": [
    "## 이미지 파라미터 데이터 → 이미지로 변환"
   ]
  },
  {
   "cell_type": "markdown",
   "metadata": {},
   "source": [
    "파라미터를 (128×64) 이미지로 변환  \n",
    "cv2 라이브러리를 통해 직사각형 구조 생성(CV2 : 컴퓨터 비전 라이브러리)"
   ]
  },
  {
   "cell_type": "markdown",
   "metadata": {},
   "source": [
    "![parameter_image](picture/parameter_image.png)"
   ]
  },
  {
   "cell_type": "markdown",
   "metadata": {},
   "source": [
    "구조 파라미터 → 이미지 생성을 위한 Class 정의"
   ]
  },
  {
   "cell_type": "markdown",
   "metadata": {},
   "source": [
    "Q2.    \n",
    "생성된 구조의 픽셀값 (255, 255, 255)를 binary 데이터인 (1, 1, 1) 로 변경"
   ]
  },
  {
   "cell_type": "code",
   "execution_count": null,
   "metadata": {},
   "outputs": [],
   "source": [
    "class generator():\n",
    "    \n",
    "    def __init__(self):\n",
    "        self.width = 64\n",
    "        self.height= 128\n",
    "\n",
    "    def geometry(self,ta,d,rd,ra,l):\n",
    "        self.case = np.zeros((self.height,self.width, 3),dtype = np.float32)\n",
    "        self.case = cv2.rectangle(self.case,(16,self.height-rd),(55,self.height-1),(255,255,255),-1)\n",
    "        self.case = cv2.rectangle(self.case,(36-d,self.height-rd-l),(36+d-1,self.height-rd-1),(255,255,255),-1)\n",
    "        self.case = cv2.rectangle(self.case,(36-ta,self.height-ra),(36+ta-1, self.height-rd-l-1),(255,255,255),-1)\n",
    "        self.case = cv2.cvtColor(self.case, cv2.COLOR_BGR2GRAY)\n",
    "        self.case = self.case.reshape( self.case.shape+(1,))\n",
    "        \n",
    "        self.case =     Q2\n",
    "\n",
    "        \n",
    "        return self.case\n",
    "        \n",
    "generator = generator()"
   ]
  },
  {
   "cell_type": "markdown",
   "metadata": {},
   "source": [
    "구조 데이터에 대한 Train, Test 데이터 셋을 이미지화"
   ]
  },
  {
   "cell_type": "markdown",
   "metadata": {},
   "source": [
    "Q3.    \n",
    "train image 생성을 위한 for 문 반복 횟수"
   ]
  },
  {
   "cell_type": "code",
   "execution_count": null,
   "metadata": {},
   "outputs": [
    {
     "name": "stdout",
     "output_type": "stream",
     "text": [
      "(37345, 128, 64, 1) train image 생성 끝\n",
      "(16005, 128, 64, 1) test image 생성 끝\n"
     ]
    }
   ],
   "source": [
    "\n",
    "#%%\n",
    "train_images = []\n",
    "test_images = []\n",
    "\n",
    "for i in range(    Q3    ):\n",
    "    train_image1 = np.array(generator.geometry(parameter_train[i,0],parameter_train[i,1],parameter_train[i,2],parameter_train[i,3],\n",
    "                                               parameter_train[i,4]))\n",
    "    parameter_num = np.array(np.ones(64)*i).reshape(1,64,1)\n",
    "    train_images.append(train_image1)\n",
    "print(np.shape(train_images),'train image 생성 끝')\n",
    "\n",
    "for i in range(len(parameter_test)):\n",
    "    test_image1 = np.array(generator.geometry(parameter_test[i,0],parameter_test[i,1],parameter_test[i,2],parameter_test[i,3],\n",
    "                                              parameter_test[i,4]))\n",
    "    parameter_num = np.array(np.ones(64)*i).reshape(1,64,1)\n",
    "    test_images.append(test_image1)\n",
    "print(np.shape(test_images),'test image 생성 끝')"
   ]
  },
  {
   "cell_type": "markdown",
   "metadata": {},
   "source": [
    "## 데이터 배치 슬라이스"
   ]
  },
  {
   "cell_type": "code",
   "execution_count": 10,
   "metadata": {},
   "outputs": [
    {
     "name": "stdout",
     "output_type": "stream",
     "text": [
      "1\n",
      "train 수: 37345 test 수: 16005\n"
     ]
    }
   ],
   "source": [
    "batch_size = 32\n",
    "train_dataset = tf.data.Dataset.from_tensor_slices((train_images,train_TL)).shuffle(1).batch(batch_size)\n",
    "test_dataset = tf.data.Dataset.from_tensor_slices((test_images,test_TL)).shuffle(1).batch(batch_size) \n",
    "print('train 수:',len(train_images),'test 수:',len(test_images))"
   ]
  },
  {
   "cell_type": "markdown",
   "metadata": {},
   "source": [
    "# VAE 구조 생성"
   ]
  },
  {
   "cell_type": "markdown",
   "metadata": {},
   "source": [
    "![vae_exp_structure](picture/vae_exp_structure.png)"
   ]
  },
  {
   "cell_type": "markdown",
   "metadata": {},
   "source": [
    "![vae_explain](picture/vae_explain.png)"
   ]
  },
  {
   "cell_type": "markdown",
   "metadata": {},
   "source": [
    "![VAE](picture/VAE.png)"
   ]
  },
  {
   "cell_type": "markdown",
   "metadata": {},
   "source": [
    "## Encoder 구조 생성"
   ]
  },
  {
   "cell_type": "markdown",
   "metadata": {},
   "source": [
    "VAE 구조에서 Encoder의 신경망 구조\n",
    "- 통기성 소음 감쇠기 구조 학습을 위한 Convolutional neural network(CNN) 활용 + ResNet\n",
    "- CNN 이후 'flatten' 을 통해 Deep nerual network(DNN) 구조로 변환\n",
    "- 출력은 12차원의 잠재 공간(Latent space)를 나타내기 위해 (평균 12개 + 분산 12개) → 총 24개  "
   ]
  },
  {
   "cell_type": "markdown",
   "metadata": {},
   "source": [
    "![encoder](picture/encoder.png)"
   ]
  },
  {
   "cell_type": "markdown",
   "metadata": {},
   "source": [
    "Q4.    \n",
    "Tensorflow 에서 모델 커스터마이징 시 초기화    \n",
    "    \n",
    "Q5.    \n",
    "Tenforflow 에서 convolution layer 생성    \n",
    "    \n",
    "Q6.    \n",
    "Convolution layer 에서 kernel 의 깊이, 크기, stride, padding 설정    \n",
    "(kernel 의 깊이 : 8, 크기 : (3, 3), strides : 1, padding : 'same')    \n",
    "    \n",
    "Q7.    \n",
    "Batchinormalization layer 추가    \n",
    "    \n",
    "Q8.    \n",
    "Activation function : 'relu' 추가"
   ]
  },
  {
   "cell_type": "code",
   "execution_count": null,
   "metadata": {},
   "outputs": [],
   "source": [
    "class Encoder(tf.keras.Model):\n",
    "    def __init__(self):\n",
    "        super(Encoder, self).    Q4    ()\n",
    "        self.conv0_0 =     Q5    (8,(1,1), strides= 1, padding='valid')\n",
    "        self.conv0_1 = tf.keras.layers.Conv2D(    Q6    )\n",
    "        self.conv0_2 = tf.keras.layers.Conv2D(16,(1,1), strides= 1, padding='valid')\n",
    "        self.conv1_0 = tf.keras.layers.Conv2D(16,(1,1), strides= 2, padding='valid')\n",
    "        self.conv1_1 = tf.keras.layers.Conv2D(16,(3,3), strides= 1, padding='same')\n",
    "        self.conv1_2 = tf.keras.layers.Conv2D(32,(1,1), strides= 1, padding='valid')\n",
    "        self.conv2_0 = tf.keras.layers.Conv2D(32,(1,1), strides= 2, padding='valid')\n",
    "        self.conv2_1 = tf.keras.layers.Conv2D(32,(3,3), strides= 1, padding='same')\n",
    "        self.conv2_2 = tf.keras.layers.Conv2D(64,(1,1), strides= 1, padding='valid')\n",
    "        self.conv3_0 = tf.keras.layers.Conv2D(64,(1,1), strides= 2, padding='valid')\n",
    "        self.conv3_1 = tf.keras.layers.Conv2D(64,(3,3), strides= 1, padding='same')\n",
    "        self.conv3_2 = tf.keras.layers.Conv2D(128,(1,1), strides= 1, padding='valid')\n",
    "\n",
    "        self.batch0_0 =     Q7\n",
    "        self.batch0_1 = tf.keras.layers.BatchNormalization()\n",
    "        self.batch0_2 = tf.keras.layers.BatchNormalization()\n",
    "        self.batch1_0 = tf.keras.layers.BatchNormalization()\n",
    "        self.batch1_1 = tf.keras.layers.BatchNormalization()\n",
    "        self.batch1_2 = tf.keras.layers.BatchNormalization()\n",
    "        self.batch2_0 = tf.keras.layers.BatchNormalization()\n",
    "        self.batch2_1 = tf.keras.layers.BatchNormalization()\n",
    "        self.batch2_2 = tf.keras.layers.BatchNormalization()\n",
    "        self.batch3_0 = tf.keras.layers.BatchNormalization()\n",
    "        self.batch3_1 = tf.keras.layers.BatchNormalization()\n",
    "        self.batch3_2 = tf.keras.layers.BatchNormalization()\n",
    "\n",
    "        self.act0_0 =     Q8\n",
    "        self.act0_1 = tf.keras.layers.Activation('relu')\n",
    "        self.act1_0 = tf.keras.layers.Activation('relu')\n",
    "        self.act1_1 = tf.keras.layers.Activation('relu')\n",
    "        self.act2_0 = tf.keras.layers.Activation('relu')\n",
    "        self.act2_1 = tf.keras.layers.Activation('relu')\n",
    "        self.act3_0 = tf.keras.layers.Activation('relu')\n",
    "        self.act3_1 = tf.keras.layers.Activation('relu')\n",
    "\n",
    "        self.res0 = tf.keras.layers.Conv2D(16, (1,1), strides = 1, padding='valid')\n",
    "        self.res1 = tf.keras.layers.Conv2D(32, (1,1), strides = 2, padding='valid')\n",
    "        self.res2 = tf.keras.layers.Conv2D(64, (1,1), strides = 2, padding='valid')\n",
    "        self.res3 = tf.keras.layers.Conv2D(128, (1,1), strides = 2, padding='valid')\n",
    "        \n",
    "        self.batch0_r = tf.keras.layers.BatchNormalization()\n",
    "        self.batch1_r = tf.keras.layers.BatchNormalization()\n",
    "        self.batch2_r = tf.keras.layers.BatchNormalization()\n",
    "        self.batch3_r = tf.keras.layers.BatchNormalization()\n",
    "\n",
    "        self.drop0 = tf.keras.layers.Dropout(0.3)\n",
    "        self.drop1 = tf.keras.layers.Dropout(0.3)\n",
    "\n",
    "        self.flat1 = tf.keras.layers.Flatten()\n",
    "        self.d2 = tf.keras.layers.Dense(100, activation= 'LeakyReLU')\n",
    "        self.d3 = tf.keras.layers.Dense(100, activation= 'LeakyReLU')\n",
    "        self.d4 = tf.keras.layers.Dense(24, activation= 'LeakyReLU')\n",
    "        \n",
    "    def call(self,x):\n",
    "        x_shortcut0 = x\n",
    "        x = self.conv0_0(x)\n",
    "        x = self.batch0_0(x)\n",
    "        x = self.act0_0(x)\n",
    "        x = self.conv0_1(x)\n",
    "        x = self.batch0_1(x)\n",
    "        x = self.act0_1(x)\n",
    "        x = self.conv0_2(x)\n",
    "        x = self.batch0_2(x)\n",
    "        x_shortcut0 = self.res0(x_shortcut0)\n",
    "        x_shortcut0 = self.batch0_r(x_shortcut0)\n",
    "        x = tf.keras.layers.Add()([x,x_shortcut0])\n",
    "        x = tf.keras.layers.Activation('relu')(x)\n",
    "\n",
    "        x_shortcut1 = x\n",
    "        x = self.conv1_0(x)\n",
    "        x = self.batch1_0(x)\n",
    "        x = self.act1_0(x)\n",
    "        x = self.conv1_1(x)\n",
    "        x = self.batch1_1(x)\n",
    "        x = self.act1_1(x)\n",
    "        x = self.conv1_2(x)\n",
    "        x = self.batch1_2(x)\n",
    "        x_shortcut1 = self.res1(x_shortcut1)\n",
    "        x_shortcut1 = self.batch1_r(x_shortcut1)\n",
    "        x = tf.keras.layers.Add()([x,x_shortcut1])\n",
    "        x = tf.keras.layers.Activation('relu')(x)\n",
    "\n",
    "        x_shortcut2 = x\n",
    "        x = self.conv2_0(x)\n",
    "        x = self.batch2_0(x)\n",
    "        x = self.act2_0(x)\n",
    "        x = self.conv2_1(x)\n",
    "        x = self.batch2_1(x)\n",
    "        x = self.act2_1(x)\n",
    "        x = self.conv2_2(x)\n",
    "        x = self.batch2_2(x)\n",
    "        x_shortcut2 = self.res2(x_shortcut2)\n",
    "        x_shortcut2 = self.batch2_r(x_shortcut2)\n",
    "        x = tf.keras.layers.Add()([x,x_shortcut2])\n",
    "        x = tf.keras.layers.Activation('relu')(x)\n",
    "        \n",
    "        x_shortcut3 = x\n",
    "        x = self.conv3_0(x)\n",
    "        x = self.batch3_0(x)\n",
    "        x = self.act3_0(x)\n",
    "        x = self.conv3_1(x)\n",
    "        x = self.batch3_1(x)\n",
    "        x = self.act3_1(x)\n",
    "        x = self.conv3_2(x)\n",
    "        x = self.batch3_2(x)\n",
    "        x_shortcut3 = self.res3(x_shortcut3)\n",
    "        x_shortcut3 = self.batch3_r(x_shortcut3)\n",
    "        x = tf.keras.layers.Add()([x,x_shortcut3])\n",
    "        x = tf.keras.layers.Activation('relu')(x)\n",
    "\n",
    "        x = self.flat1(x)\n",
    "        x = self.d2(x)\n",
    "        x = self.drop0(x)\n",
    "        x = self.d3(x)\n",
    "        x = self.drop1(x)\n",
    "        return self.d4(x)\n",
    "encoder = Encoder()"
   ]
  },
  {
   "cell_type": "markdown",
   "metadata": {},
   "source": [
    "## Frequency Encoder 구조 생성"
   ]
  },
  {
   "cell_type": "markdown",
   "metadata": {},
   "source": [
    "Q9.    \n",
    "정의된 layer 를 순서대로 호출    \n",
    "convolution layer 0 : con0    \n",
    "convolution layer 1 : con1    \n",
    "batch normalization 1 : batch1    \n",
    "convolution layer 2 : con2    \n",
    "convolution layer 3 : con3    "
   ]
  },
  {
   "cell_type": "code",
   "execution_count": null,
   "metadata": {},
   "outputs": [],
   "source": [
    "\n",
    "class FrequencyEncoder(tf.keras.Model):\n",
    "\n",
    "    def __init__(self):\n",
    "        super(FrequencyEncoder, self).__init__()\n",
    "        self.den0 = tf.keras.layers.Dense(256, activation='LeakyReLU')#leaky relu\n",
    "        self.den1 = tf.keras.layers.Dense(64, activation='LeakyReLU')\n",
    "        self.den3 = tf.keras.layers.Dense(8, activation='LeakyReLU')\n",
    "        self.con0 = tf.keras.layers.Conv1D(16,3,padding='valid',activation='relu')\n",
    "        self.con1 = tf.keras.layers.Conv1D(32,3,padding='valid',activation='relu')\n",
    "        self.con2 = tf.keras.layers.Conv1D(64,3,padding='valid',activation='relu')\n",
    "        self.con3 = tf.keras.layers.Conv1D(128,3,padding='valid',activation='relu')\n",
    "        self.flat = tf.keras.layers.Flatten()\n",
    "        self.batch1 = tf.keras.layers.BatchNormalization()\n",
    "        self.batch2 = tf.keras.layers.BatchNormalization()\n",
    "        self.drop2=tf.keras.layers.Dropout(0.3)\n",
    "        self.drop3=tf.keras.layers.Dropout(0.3)\n",
    "    \n",
    "    def call(self,x):\n",
    "\n",
    "        Q9\n",
    "        \n",
    "        x = self.batch2(x)\n",
    "        x = self.flat(x)\n",
    "        x = self.den0(x)\n",
    "        x = self.drop2(x)\n",
    "        x = self.den1(x)\n",
    "        x = self.drop3(x)\n",
    "        \n",
    "        return self.den3(x)\n",
    "\n",
    "frequencyencoder = FrequencyEncoder()\n"
   ]
  },
  {
   "cell_type": "markdown",
   "metadata": {},
   "source": [
    "## Decoder 구조 생성"
   ]
  },
  {
   "cell_type": "markdown",
   "metadata": {},
   "source": [
    "![decoder_rot](picture/decoder_rot.png)"
   ]
  },
  {
   "cell_type": "code",
   "execution_count": null,
   "metadata": {},
   "outputs": [],
   "source": [
    "\n",
    "class Decoder(tf.keras.Model):\n",
    "    def __init__(self):\n",
    "        super(Decoder, self).__init__()\n",
    "        self.flat = tf.keras.layers.Flatten()\n",
    "        self.den00 = tf.keras.layers.Dense(2*1*128)\n",
    "        self.act00 = tf.keras.layers.Activation('LeakyReLU')\n",
    "        self.den0 = tf.keras.layers.Dense(4*2*128)\n",
    "        self.batch0 = tf.keras.layers.BatchNormalization()\n",
    "        self.act0 = tf.keras.layers.Activation('LeakyReLU')\n",
    "        self.regular0 = tf.keras.layers.ActivityRegularization()\n",
    "        self.drop0 = tf.keras.layers.Dropout(0.2)\n",
    "        self.den1 = tf.keras.layers.Dense(16*8*128)\n",
    "        self.batch1 = tf.keras.layers.BatchNormalization()\n",
    "        self.act1 = tf.keras.layers.Activation('LeakyReLU')\n",
    "        self.regular1 = tf.keras.layers.ActivityRegularization()\n",
    "        self.drop1 = tf.keras.layers.Dropout(0.2)\n",
    "        self.reshape0 = tf.keras.layers.Reshape(target_shape = (16,8,128))\n",
    "        self.convt0 = tf.keras.layers.Conv2DTranspose(filters=8, kernel_size=3, strides=2, padding='same')\n",
    "        self.batch2 = tf.keras.layers.BatchNormalization()\n",
    "        self.act2 = tf.keras.layers.Activation('LeakyReLU')\n",
    "        self.convt1 = tf.keras.layers.Conv2DTranspose(filters=16, kernel_size=3, strides=2, padding='same')\n",
    "        self.batch3 = tf.keras.layers.BatchNormalization()\n",
    "        self.act3 = tf.keras.layers.Activation('LeakyReLU')\n",
    "        self.convt2 = tf.keras.layers.Conv2DTranspose(filters=32, kernel_size=3, strides=2, padding='same')\n",
    "        self.batch4 = tf.keras.layers.BatchNormalization()\n",
    "        self.act4 = tf.keras.layers.Activation('LeakyReLU')\n",
    "        self.convt3 = tf.keras.layers.Conv2DTranspose(filters=1, kernel_size=3, strides=1, padding='same')\n",
    "        self.act4 = tf.keras.layers.Activation('sigmoid')\n",
    "    \n",
    "    def call(self,x):\n",
    "        x = self.flat(x)\n",
    "        x = self.den00(x)\n",
    "        x = self.act00(x)\n",
    "        x = self.den0(x)\n",
    "        x = self.batch0(x)\n",
    "        x = self.act0(x)\n",
    "        x = self.regular0(x)\n",
    "        x = self.drop0(x)\n",
    "        x = self.den1(x)\n",
    "        x = self.batch1(x)\n",
    "        x = self.act1(x)\n",
    "        x = self.regular1(x)\n",
    "        x = self.drop1(x)\n",
    "        x = self.reshape0(x)\n",
    "        x = self.convt0(x)\n",
    "        x = self.batch2(x)\n",
    "        x = self.act2(x)\n",
    "        x = self.convt1(x)\n",
    "        x = self.batch3(x)\n",
    "        x = self.act3(x)\n",
    "        x = self.convt2(x)\n",
    "        x = self.batch4(x)\n",
    "        x = self.act4(x)\n",
    "        x = self.convt3(x)\n",
    "        return self.act4(x)\n",
    "decoder = Decoder()    "
   ]
  },
  {
   "cell_type": "markdown",
   "metadata": {},
   "source": [
    "## 전체 딥러닝 구조 선언"
   ]
  },
  {
   "cell_type": "code",
   "execution_count": null,
   "metadata": {},
   "outputs": [],
   "source": [
    "\n",
    "class VAE(tf.keras.Model):\n",
    "    \n",
    "    def __init__(self):\n",
    "        super(VAE, self).__init__()\n",
    "        self.encoder = encoder\n",
    "        self.frequencyencoder = frequencyencoder\n",
    "        self.decoder = decoder\n",
    "\n",
    "    def encode(self, x):\n",
    "        mean, logvar = tf.split(self.encoder(x), num_or_size_splits=2, axis=1)\n",
    "        return mean, logvar\n",
    "    \n",
    "    def fre_encode(self, x):\n",
    "        z=self.frequencyencoder(x)\n",
    "        mean, logvar = tf.split(z, num_or_size_splits=2, axis=1)\n",
    "        return mean, logvar ,z\n",
    "\n",
    "    def reparameterize(self, mean, logvar):\n",
    "        eps = tf.random.normal(shape=mean.shape)\n",
    "        return eps * tf.exp(logvar * .5) + mean\n",
    "\n",
    "    def decode(self, z):\n",
    "        logits = self.decoder(z)\n",
    "        return logits\n",
    "\n",
    "optimizer = tf.keras.optimizers.Adam(1e-5)"
   ]
  },
  {
   "cell_type": "markdown",
   "metadata": {},
   "source": [
    "## 학습을 위한 loss function 선언"
   ]
  },
  {
   "cell_type": "markdown",
   "metadata": {},
   "source": [
    "![loss_function](picture/loss_function.png)"
   ]
  },
  {
   "cell_type": "markdown",
   "metadata": {},
   "source": [
    "Q10.    \n",
    "딥러닝 모델와 학습 데이터를 입력받으면 loss 를 계산하는 함수"
   ]
  },
  {
   "cell_type": "code",
   "execution_count": null,
   "metadata": {},
   "outputs": [],
   "source": [
    "\n",
    "def KLD(mean,logvar):\n",
    "    return tf.reduce_sum(-.5 *( 1- mean ** 2. - tf.exp(logvar) + logvar),axis=1)\n",
    "    \n",
    "def compute_loss(model, x,y):\n",
    "\n",
    "    # 1\n",
    "    mean, logvar = model.encode(x)\n",
    "    z_image = tf.stack((mean,logvar),axis=0)\n",
    "\n",
    "    # 2\n",
    "    mean_recon=mean[:,:8]\n",
    "    logvar_recon=logvar[:,:8]\n",
    "    z_image_mse=z_image[:,:,8:]\n",
    "\n",
    "    # 3\n",
    "    mean_fre, logvar_fre ,fre_recon= model.fre_encode(y)\n",
    "    z_fre = tf.stack((mean_fre,logvar_fre),axis=0)\n",
    "    \n",
    "    # 4\n",
    "    latent_loss = tf.keras.losses.MeanSquaredError()\n",
    "    latent_loss=latent_loss(z_image_mse,z_fre)\n",
    "\n",
    "    # 5\n",
    "    z = model.reparameterize(mean_recon, logvar_recon)\n",
    "    z = tf.concat([z,fre_recon],axis=1)\n",
    "    x_logit = model.decode(z)\n",
    "    \n",
    "    # 6\n",
    "    cross_ent = tf.keras.losses.binary_crossentropy(x,x_logit)\n",
    "    recontruction_loss = tf.reduce_mean(tf.reduce_sum(cross_ent,axis=(1,2)))\n",
    "\n",
    "    # 7\n",
    "    KLD_loss = KLD(mean,logvar)\n",
    "    KLD_loss = tf.reduce_mean(KLD_loss)\n",
    "    vae_loss = recontruction_loss + KLD_loss\n",
    "    \n",
    "    return tf.reduce_sum(latent_loss+vae_loss), latent_loss,vae_loss,recontruction_loss,KLD_loss\n",
    "\n",
    "\n",
    "@tf.function\n",
    "def train_step(model, x,y, optimizer):\n",
    "    with tf.GradientTape() as tape:\n",
    "        sum_loss,latent_loss,vae_loss,recontruction_loss,KLD_loss =     Q10\n",
    "    gradients = tape.gradient(sum_loss, model.trainable_variables)\n",
    "    optimizer.apply_gradients(zip(gradients, model.trainable_variables))\n",
    "    return sum_loss,latent_loss,vae_loss,recontruction_loss,KLD_loss"
   ]
  },
  {
   "cell_type": "markdown",
   "metadata": {},
   "source": [
    "# VAE 모델 학습"
   ]
  },
  {
   "cell_type": "code",
   "execution_count": null,
   "metadata": {},
   "outputs": [
    {
     "name": "stdout",
     "output_type": "stream",
     "text": [
      "Train done\n",
      "Test done\n",
      "Epoch: 1, Test loss: 1277.72, latent: 3.55, vae: 1274.17, recon: 1211.51, kld: 62.66,\n",
      "\t Train loss:1675.64, latent_train: 12.46, vae_train: 1663.18, recon_train: 1634.23, kld_train: 28.95, time: 307.98\n"
     ]
    },
    {
     "ename": "KeyboardInterrupt",
     "evalue": "",
     "output_type": "error",
     "traceback": [
      "\u001b[1;31m---------------------------------------------------------------------------\u001b[0m\n",
      "\u001b[1;31mKeyboardInterrupt\u001b[0m                         Traceback (most recent call last)\n",
      "Cell \u001b[1;32mIn[18], line 21\u001b[0m\n",
      "\u001b[0;32m     19\u001b[0m d1,e1,f1,g1,h1 \u001b[38;5;241m=\u001b[39m \u001b[38;5;241m0\u001b[39m,\u001b[38;5;241m0\u001b[39m,\u001b[38;5;241m0\u001b[39m,\u001b[38;5;241m0\u001b[39m,\u001b[38;5;241m0\u001b[39m\n",
      "\u001b[0;32m     20\u001b[0m \u001b[38;5;28;01mfor\u001b[39;00m train_x, train_y \u001b[38;5;129;01min\u001b[39;00m train_dataset:\n",
      "\u001b[1;32m---> 21\u001b[0m     d, e, f, g, h \u001b[38;5;241m=\u001b[39m\u001b[43mtrain_step\u001b[49m\u001b[43m(\u001b[49m\u001b[43mmodel\u001b[49m\u001b[43m,\u001b[49m\u001b[43m \u001b[49m\u001b[43mtrain_x\u001b[49m\u001b[43m,\u001b[49m\u001b[43m \u001b[49m\u001b[43mtrain_y\u001b[49m\u001b[43m,\u001b[49m\u001b[43m \u001b[49m\u001b[43moptimizer\u001b[49m\u001b[43m)\u001b[49m\n",
      "\u001b[0;32m     22\u001b[0m     d1 \u001b[38;5;241m+\u001b[39m\u001b[38;5;241m=\u001b[39m d\n",
      "\u001b[0;32m     23\u001b[0m     e1 \u001b[38;5;241m+\u001b[39m\u001b[38;5;241m=\u001b[39m e\n",
      "\n",
      "File \u001b[1;32m~\\AppData\\Local\\Packages\\PythonSoftwareFoundation.Python.3.9_qbz5n2kfra8p0\\LocalCache\\local-packages\\Python39\\site-packages\\tensorflow\\python\\util\\traceback_utils.py:150\u001b[0m, in \u001b[0;36mfilter_traceback.<locals>.error_handler\u001b[1;34m(*args, **kwargs)\u001b[0m\n",
      "\u001b[0;32m    148\u001b[0m filtered_tb \u001b[38;5;241m=\u001b[39m \u001b[38;5;28;01mNone\u001b[39;00m\n",
      "\u001b[0;32m    149\u001b[0m \u001b[38;5;28;01mtry\u001b[39;00m:\n",
      "\u001b[1;32m--> 150\u001b[0m   \u001b[38;5;28;01mreturn\u001b[39;00m fn(\u001b[38;5;241m*\u001b[39margs, \u001b[38;5;241m*\u001b[39m\u001b[38;5;241m*\u001b[39mkwargs)\n",
      "\u001b[0;32m    151\u001b[0m \u001b[38;5;28;01mexcept\u001b[39;00m \u001b[38;5;167;01mException\u001b[39;00m \u001b[38;5;28;01mas\u001b[39;00m e:\n",
      "\u001b[0;32m    152\u001b[0m   filtered_tb \u001b[38;5;241m=\u001b[39m _process_traceback_frames(e\u001b[38;5;241m.\u001b[39m__traceback__)\n",
      "\n",
      "File \u001b[1;32m~\\AppData\\Local\\Packages\\PythonSoftwareFoundation.Python.3.9_qbz5n2kfra8p0\\LocalCache\\local-packages\\Python39\\site-packages\\tensorflow\\python\\eager\\def_function.py:915\u001b[0m, in \u001b[0;36mFunction.__call__\u001b[1;34m(self, *args, **kwds)\u001b[0m\n",
      "\u001b[0;32m    912\u001b[0m compiler \u001b[38;5;241m=\u001b[39m \u001b[38;5;124m\"\u001b[39m\u001b[38;5;124mxla\u001b[39m\u001b[38;5;124m\"\u001b[39m \u001b[38;5;28;01mif\u001b[39;00m \u001b[38;5;28mself\u001b[39m\u001b[38;5;241m.\u001b[39m_jit_compile \u001b[38;5;28;01melse\u001b[39;00m \u001b[38;5;124m\"\u001b[39m\u001b[38;5;124mnonXla\u001b[39m\u001b[38;5;124m\"\u001b[39m\n",
      "\u001b[0;32m    914\u001b[0m \u001b[38;5;28;01mwith\u001b[39;00m OptionalXlaContext(\u001b[38;5;28mself\u001b[39m\u001b[38;5;241m.\u001b[39m_jit_compile):\n",
      "\u001b[1;32m--> 915\u001b[0m   result \u001b[38;5;241m=\u001b[39m \u001b[38;5;28mself\u001b[39m\u001b[38;5;241m.\u001b[39m_call(\u001b[38;5;241m*\u001b[39margs, \u001b[38;5;241m*\u001b[39m\u001b[38;5;241m*\u001b[39mkwds)\n",
      "\u001b[0;32m    917\u001b[0m new_tracing_count \u001b[38;5;241m=\u001b[39m \u001b[38;5;28mself\u001b[39m\u001b[38;5;241m.\u001b[39mexperimental_get_tracing_count()\n",
      "\u001b[0;32m    918\u001b[0m without_tracing \u001b[38;5;241m=\u001b[39m (tracing_count \u001b[38;5;241m==\u001b[39m new_tracing_count)\n",
      "\n",
      "File \u001b[1;32m~\\AppData\\Local\\Packages\\PythonSoftwareFoundation.Python.3.9_qbz5n2kfra8p0\\LocalCache\\local-packages\\Python39\\site-packages\\tensorflow\\python\\eager\\def_function.py:947\u001b[0m, in \u001b[0;36mFunction._call\u001b[1;34m(self, *args, **kwds)\u001b[0m\n",
      "\u001b[0;32m    944\u001b[0m   \u001b[38;5;28mself\u001b[39m\u001b[38;5;241m.\u001b[39m_lock\u001b[38;5;241m.\u001b[39mrelease()\n",
      "\u001b[0;32m    945\u001b[0m   \u001b[38;5;66;03m# In this case we have created variables on the first call, so we run the\u001b[39;00m\n",
      "\u001b[0;32m    946\u001b[0m   \u001b[38;5;66;03m# defunned version which is guaranteed to never create variables.\u001b[39;00m\n",
      "\u001b[1;32m--> 947\u001b[0m   \u001b[38;5;28;01mreturn\u001b[39;00m \u001b[38;5;28mself\u001b[39m\u001b[38;5;241m.\u001b[39m_stateless_fn(\u001b[38;5;241m*\u001b[39margs, \u001b[38;5;241m*\u001b[39m\u001b[38;5;241m*\u001b[39mkwds)  \u001b[38;5;66;03m# pylint: disable=not-callable\u001b[39;00m\n",
      "\u001b[0;32m    948\u001b[0m \u001b[38;5;28;01melif\u001b[39;00m \u001b[38;5;28mself\u001b[39m\u001b[38;5;241m.\u001b[39m_stateful_fn \u001b[38;5;129;01mis\u001b[39;00m \u001b[38;5;129;01mnot\u001b[39;00m \u001b[38;5;28;01mNone\u001b[39;00m:\n",
      "\u001b[0;32m    949\u001b[0m   \u001b[38;5;66;03m# Release the lock early so that multiple threads can perform the call\u001b[39;00m\n",
      "\u001b[0;32m    950\u001b[0m   \u001b[38;5;66;03m# in parallel.\u001b[39;00m\n",
      "\u001b[0;32m    951\u001b[0m   \u001b[38;5;28mself\u001b[39m\u001b[38;5;241m.\u001b[39m_lock\u001b[38;5;241m.\u001b[39mrelease()\n",
      "\n",
      "File \u001b[1;32m~\\AppData\\Local\\Packages\\PythonSoftwareFoundation.Python.3.9_qbz5n2kfra8p0\\LocalCache\\local-packages\\Python39\\site-packages\\tensorflow\\python\\eager\\function.py:2496\u001b[0m, in \u001b[0;36mFunction.__call__\u001b[1;34m(self, *args, **kwargs)\u001b[0m\n",
      "\u001b[0;32m   2493\u001b[0m \u001b[38;5;28;01mwith\u001b[39;00m \u001b[38;5;28mself\u001b[39m\u001b[38;5;241m.\u001b[39m_lock:\n",
      "\u001b[0;32m   2494\u001b[0m   (graph_function,\n",
      "\u001b[0;32m   2495\u001b[0m    filtered_flat_args) \u001b[38;5;241m=\u001b[39m \u001b[38;5;28mself\u001b[39m\u001b[38;5;241m.\u001b[39m_maybe_define_function(args, kwargs)\n",
      "\u001b[1;32m-> 2496\u001b[0m \u001b[38;5;28;01mreturn\u001b[39;00m \u001b[43mgraph_function\u001b[49m\u001b[38;5;241;43m.\u001b[39;49m\u001b[43m_call_flat\u001b[49m\u001b[43m(\u001b[49m\n",
      "\u001b[0;32m   2497\u001b[0m \u001b[43m    \u001b[49m\u001b[43mfiltered_flat_args\u001b[49m\u001b[43m,\u001b[49m\u001b[43m \u001b[49m\u001b[43mcaptured_inputs\u001b[49m\u001b[38;5;241;43m=\u001b[39;49m\u001b[43mgraph_function\u001b[49m\u001b[38;5;241;43m.\u001b[39;49m\u001b[43mcaptured_inputs\u001b[49m\u001b[43m)\u001b[49m\n",
      "\n",
      "File \u001b[1;32m~\\AppData\\Local\\Packages\\PythonSoftwareFoundation.Python.3.9_qbz5n2kfra8p0\\LocalCache\\local-packages\\Python39\\site-packages\\tensorflow\\python\\eager\\function.py:1862\u001b[0m, in \u001b[0;36mConcreteFunction._call_flat\u001b[1;34m(self, args, captured_inputs, cancellation_manager)\u001b[0m\n",
      "\u001b[0;32m   1858\u001b[0m possible_gradient_type \u001b[38;5;241m=\u001b[39m gradients_util\u001b[38;5;241m.\u001b[39mPossibleTapeGradientTypes(args)\n",
      "\u001b[0;32m   1859\u001b[0m \u001b[38;5;28;01mif\u001b[39;00m (possible_gradient_type \u001b[38;5;241m==\u001b[39m gradients_util\u001b[38;5;241m.\u001b[39mPOSSIBLE_GRADIENT_TYPES_NONE\n",
      "\u001b[0;32m   1860\u001b[0m     \u001b[38;5;129;01mand\u001b[39;00m executing_eagerly):\n",
      "\u001b[0;32m   1861\u001b[0m   \u001b[38;5;66;03m# No tape is watching; skip to running the function.\u001b[39;00m\n",
      "\u001b[1;32m-> 1862\u001b[0m   \u001b[38;5;28;01mreturn\u001b[39;00m \u001b[38;5;28mself\u001b[39m\u001b[38;5;241m.\u001b[39m_build_call_outputs(\u001b[38;5;28;43mself\u001b[39;49m\u001b[38;5;241;43m.\u001b[39;49m\u001b[43m_inference_function\u001b[49m\u001b[38;5;241;43m.\u001b[39;49m\u001b[43mcall\u001b[49m\u001b[43m(\u001b[49m\n",
      "\u001b[0;32m   1863\u001b[0m \u001b[43m      \u001b[49m\u001b[43mctx\u001b[49m\u001b[43m,\u001b[49m\u001b[43m \u001b[49m\u001b[43margs\u001b[49m\u001b[43m,\u001b[49m\u001b[43m \u001b[49m\u001b[43mcancellation_manager\u001b[49m\u001b[38;5;241;43m=\u001b[39;49m\u001b[43mcancellation_manager\u001b[49m\u001b[43m)\u001b[49m)\n",
      "\u001b[0;32m   1864\u001b[0m forward_backward \u001b[38;5;241m=\u001b[39m \u001b[38;5;28mself\u001b[39m\u001b[38;5;241m.\u001b[39m_select_forward_and_backward_functions(\n",
      "\u001b[0;32m   1865\u001b[0m     args,\n",
      "\u001b[0;32m   1866\u001b[0m     possible_gradient_type,\n",
      "\u001b[0;32m   1867\u001b[0m     executing_eagerly)\n",
      "\u001b[0;32m   1868\u001b[0m forward_function, args_with_tangents \u001b[38;5;241m=\u001b[39m forward_backward\u001b[38;5;241m.\u001b[39mforward()\n",
      "\n",
      "File \u001b[1;32m~\\AppData\\Local\\Packages\\PythonSoftwareFoundation.Python.3.9_qbz5n2kfra8p0\\LocalCache\\local-packages\\Python39\\site-packages\\tensorflow\\python\\eager\\function.py:499\u001b[0m, in \u001b[0;36m_EagerDefinedFunction.call\u001b[1;34m(self, ctx, args, cancellation_manager)\u001b[0m\n",
      "\u001b[0;32m    497\u001b[0m \u001b[38;5;28;01mwith\u001b[39;00m _InterpolateFunctionError(\u001b[38;5;28mself\u001b[39m):\n",
      "\u001b[0;32m    498\u001b[0m   \u001b[38;5;28;01mif\u001b[39;00m cancellation_manager \u001b[38;5;129;01mis\u001b[39;00m \u001b[38;5;28;01mNone\u001b[39;00m:\n",
      "\u001b[1;32m--> 499\u001b[0m     outputs \u001b[38;5;241m=\u001b[39m \u001b[43mexecute\u001b[49m\u001b[38;5;241;43m.\u001b[39;49m\u001b[43mexecute\u001b[49m\u001b[43m(\u001b[49m\n",
      "\u001b[0;32m    500\u001b[0m \u001b[43m        \u001b[49m\u001b[38;5;28;43mstr\u001b[39;49m\u001b[43m(\u001b[49m\u001b[38;5;28;43mself\u001b[39;49m\u001b[38;5;241;43m.\u001b[39;49m\u001b[43msignature\u001b[49m\u001b[38;5;241;43m.\u001b[39;49m\u001b[43mname\u001b[49m\u001b[43m)\u001b[49m\u001b[43m,\u001b[49m\n",
      "\u001b[0;32m    501\u001b[0m \u001b[43m        \u001b[49m\u001b[43mnum_outputs\u001b[49m\u001b[38;5;241;43m=\u001b[39;49m\u001b[38;5;28;43mself\u001b[39;49m\u001b[38;5;241;43m.\u001b[39;49m\u001b[43m_num_outputs\u001b[49m\u001b[43m,\u001b[49m\n",
      "\u001b[0;32m    502\u001b[0m \u001b[43m        \u001b[49m\u001b[43minputs\u001b[49m\u001b[38;5;241;43m=\u001b[39;49m\u001b[43margs\u001b[49m\u001b[43m,\u001b[49m\n",
      "\u001b[0;32m    503\u001b[0m \u001b[43m        \u001b[49m\u001b[43mattrs\u001b[49m\u001b[38;5;241;43m=\u001b[39;49m\u001b[43mattrs\u001b[49m\u001b[43m,\u001b[49m\n",
      "\u001b[0;32m    504\u001b[0m \u001b[43m        \u001b[49m\u001b[43mctx\u001b[49m\u001b[38;5;241;43m=\u001b[39;49m\u001b[43mctx\u001b[49m\u001b[43m)\u001b[49m\n",
      "\u001b[0;32m    505\u001b[0m   \u001b[38;5;28;01melse\u001b[39;00m:\n",
      "\u001b[0;32m    506\u001b[0m     outputs \u001b[38;5;241m=\u001b[39m execute\u001b[38;5;241m.\u001b[39mexecute_with_cancellation(\n",
      "\u001b[0;32m    507\u001b[0m         \u001b[38;5;28mstr\u001b[39m(\u001b[38;5;28mself\u001b[39m\u001b[38;5;241m.\u001b[39msignature\u001b[38;5;241m.\u001b[39mname),\n",
      "\u001b[0;32m    508\u001b[0m         num_outputs\u001b[38;5;241m=\u001b[39m\u001b[38;5;28mself\u001b[39m\u001b[38;5;241m.\u001b[39m_num_outputs,\n",
      "\u001b[1;32m   (...)\u001b[0m\n",
      "\u001b[0;32m    511\u001b[0m         ctx\u001b[38;5;241m=\u001b[39mctx,\n",
      "\u001b[0;32m    512\u001b[0m         cancellation_manager\u001b[38;5;241m=\u001b[39mcancellation_manager)\n",
      "\n",
      "File \u001b[1;32m~\\AppData\\Local\\Packages\\PythonSoftwareFoundation.Python.3.9_qbz5n2kfra8p0\\LocalCache\\local-packages\\Python39\\site-packages\\tensorflow\\python\\eager\\execute.py:54\u001b[0m, in \u001b[0;36mquick_execute\u001b[1;34m(op_name, num_outputs, inputs, attrs, ctx, name)\u001b[0m\n",
      "\u001b[0;32m     52\u001b[0m \u001b[38;5;28;01mtry\u001b[39;00m:\n",
      "\u001b[0;32m     53\u001b[0m   ctx\u001b[38;5;241m.\u001b[39mensure_initialized()\n",
      "\u001b[1;32m---> 54\u001b[0m   tensors \u001b[38;5;241m=\u001b[39m \u001b[43mpywrap_tfe\u001b[49m\u001b[38;5;241;43m.\u001b[39;49m\u001b[43mTFE_Py_Execute\u001b[49m\u001b[43m(\u001b[49m\u001b[43mctx\u001b[49m\u001b[38;5;241;43m.\u001b[39;49m\u001b[43m_handle\u001b[49m\u001b[43m,\u001b[49m\u001b[43m \u001b[49m\u001b[43mdevice_name\u001b[49m\u001b[43m,\u001b[49m\u001b[43m \u001b[49m\u001b[43mop_name\u001b[49m\u001b[43m,\u001b[49m\n",
      "\u001b[0;32m     55\u001b[0m \u001b[43m                                      \u001b[49m\u001b[43minputs\u001b[49m\u001b[43m,\u001b[49m\u001b[43m \u001b[49m\u001b[43mattrs\u001b[49m\u001b[43m,\u001b[49m\u001b[43m \u001b[49m\u001b[43mnum_outputs\u001b[49m\u001b[43m)\u001b[49m\n",
      "\u001b[0;32m     56\u001b[0m \u001b[38;5;28;01mexcept\u001b[39;00m core\u001b[38;5;241m.\u001b[39m_NotOkStatusException \u001b[38;5;28;01mas\u001b[39;00m e:\n",
      "\u001b[0;32m     57\u001b[0m   \u001b[38;5;28;01mif\u001b[39;00m name \u001b[38;5;129;01mis\u001b[39;00m \u001b[38;5;129;01mnot\u001b[39;00m \u001b[38;5;28;01mNone\u001b[39;00m:\n",
      "\n",
      "\u001b[1;31mKeyboardInterrupt\u001b[0m: "
     ]
    }
   ],
   "source": [
    "epochs = 1000\n",
    "\n",
    "ver = 1\n",
    "day = 20250619\n",
    "model = VAE()\n",
    "\n",
    "a2 = [0]\n",
    "b2 = [0]\n",
    "c2 = [0]\n",
    "d2 = [0]\n",
    "e2 = [0]\n",
    "f2 = [0]\n",
    "g2 = [0]\n",
    "h2 = [0]\n",
    "i2 = [0]\n",
    "j2 = [0]\n",
    "for epoch in range(1, epochs):\n",
    "    start_time = time.time()\n",
    "    d1,e1,f1,g1,h1 = 0,0,0,0,0\n",
    "    for train_x, train_y in train_dataset:\n",
    "        d, e, f, g, h =train_step(model, train_x, train_y, optimizer)\n",
    "        d1 += d\n",
    "        e1 += e\n",
    "        f1 += f\n",
    "        g1 += g\n",
    "        h1 += h\n",
    "    end_time = time.time()\n",
    "    d2.append(d1)\n",
    "    e2.append(e1)\n",
    "    f2.append(f1)\n",
    "    g2.append(g1)\n",
    "    h2.append(h1)\n",
    "    loss = tf.keras.metrics.Mean()\n",
    "    print(\"Train done\")\n",
    "    a1,b1,c1,i1,j1 = 0,0,0,0,0\n",
    "    for test_x, test_y in test_dataset:\n",
    "        a , b, c, i, j =compute_loss(model, test_x, test_y)\n",
    "        a1 += a\n",
    "        b1 += b\n",
    "        c1 += c\n",
    "        i1 += i\n",
    "        j1 += j\n",
    "        loss(a)\n",
    "    a2.append(a1)\n",
    "    b2.append(b1)\n",
    "    c2.append(c1)\n",
    "    i2.append(i1)\n",
    "    j2.append(j1)\n",
    "    print(\"Test done\")\n",
    "    print('Epoch: {}, Test loss: {:.2f}, latent: {:.2f}, vae: {:.2f}, recon: {:.2f}, kld: {:.2f},\\n\\t Train loss:{:.2f}, latent_train: {:.2f}, vae_train: {:.2f}, recon_train: {:.2f}, kld_train: {:.2f}, time: {:.2f}'\n",
    "    .format(epoch, a1/len(test_dataset), b1/len(test_dataset), c1/ len(test_dataset), i1/len(test_dataset), j1/ len(test_dataset), d1/len(train_dataset), e1/len(train_dataset), f1/ len(train_dataset),g1/len(train_dataset), h1/ len(train_dataset), end_time - start_time))\n",
    "    if epoch%500==499:\n",
    "        model.encoder.save('model/test_accept_encoder'+str(day)+'_'+str(epoch))\n",
    "        model.frequencyencoder.save('model/test_accept_freencoder'+str(day)+'_'+str(epoch))\n",
    "        model.decoder.save('model/test_accept_decoder'+str(day)+'_'+str(epoch))\n",
    "        data = {'Test loss':np.array(a2[(epoch//500)*500:])/len(test_dataset),'latent':np.array(b2[(epoch//500)*500:])/len(test_dataset),'vae':np.array(c2[(epoch//500)*500:])/len(test_dataset),'recon':np.array(i2[(epoch//500)*500:])/len(test_dataset), 'kld':np.array(j2[(epoch//500)*500:])/len(test_dataset),'train loss':np.array(d2[(epoch//500)*500:])/len(train_dataset),'latent_train':np.array(e2[(epoch//500)*500:])/len(train_dataset),'vae_train':np.array(f2[(epoch//500)*500:])/len(train_dataset),'recon_train':np.array(g2[(epoch//500)*500:])/len(train_dataset),'kld_train':np.array(h2[(epoch//500)*500:])/len(train_dataset)}\n",
    "        dataframe = pd.DataFrame(data)\n",
    "        dataframe.to_csv('model/test_accept_loss_'+str(day)+'.csv',mode='a',header=False, index=False)"
   ]
  },
  {
   "cell_type": "markdown",
   "metadata": {},
   "source": [
    "# 역설계"
   ]
  },
  {
   "cell_type": "markdown",
   "metadata": {},
   "source": [
    "## 학습된 딥러닝 모델 불러오기"
   ]
  },
  {
   "cell_type": "code",
   "execution_count": 2,
   "metadata": {},
   "outputs": [
    {
     "name": "stdout",
     "output_type": "stream",
     "text": [
      "WARNING:tensorflow:No training configuration found in save file, so the model was *not* compiled. Compile it manually.\n",
      "WARNING:tensorflow:No training configuration found in save file, so the model was *not* compiled. Compile it manually.\n",
      "WARNING:tensorflow:No training configuration found in save file, so the model was *not* compiled. Compile it manually.\n"
     ]
    }
   ],
   "source": [
    "encodermodel = tf.keras.models.load_model(\"model/inverse_design/accept_encoder20220530_11499\")\n",
    "decodermodel = tf.keras.models.load_model(\"model/inverse_design/accept_decoder20220530_11499\")\n",
    "freencodermodel = tf.keras.models.load_model(\"model/inverse_design/accept_freencoder20220530_11499\")"
   ]
  },
  {
   "cell_type": "markdown",
   "metadata": {},
   "source": [
    "## 역설계를 통한 구조 생성"
   ]
  },
  {
   "cell_type": "markdown",
   "metadata": {},
   "source": [
    "- target acoustic response 입력 >> latent value 생성\n",
    "- 구조의 latent value 는 랜덤하게 생성\n",
    "- 두 latent value 를 decoder 에 입력하여 다양한 구조 생성"
   ]
  },
  {
   "cell_type": "code",
   "execution_count": null,
   "metadata": {},
   "outputs": [
    {
     "data": {
      "image/png": "[encoded data removed]",
      "text/plain": [
       "<Figure size 2000x500 with 10 Axes>"
      ]
     },
     "metadata": {},
     "output_type": "display_data"
    },
    {
     "data": {
      "image/png": "[encoded data removed]",
      "text/plain": [
       "<Figure size 640x480 with 1 Axes>"
      ]
     },
     "metadata": {},
     "output_type": "display_data"
    }
   ],
   "source": [
    "# function\n",
    "# frequency encoder 를 통한 latent value 추출\n",
    "def latent_generate_1(model, data):\n",
    "    data = np.reshape(data, (1, 50, 1))\n",
    "    train_latent_value = model(data[0].reshape((1,)+ data[0].shape))\n",
    "    return train_latent_value\n",
    "\n",
    "# VAR 구조는 random 형상 가지도록\n",
    "def reparameterize_random():\n",
    "    eps_list = []\n",
    "    for i in range(8):\n",
    "        while(True):\n",
    "            eps = tf.random.normal(shape=[], mean = 0, stddev = 1)\n",
    "            if (abs(eps) < 1):\n",
    "                eps_list.append(eps)\n",
    "                break\n",
    "    return eps_list\n",
    "\n",
    "def dist_decode(z_d):\n",
    "    recon_image=decodermodel(z_d)\n",
    "    a, image=cv2.threshold(np.reshape(recon_image,(128,64)),0.5,1,cv2.THRESH_BINARY)\n",
    "    image=np.array(image)\n",
    "    return image\n",
    "\n",
    "# Testset에서 랜덤한 데이터 선택\n",
    "k = np.random.randint(0, len(test_TL)-1)\n",
    "z_fre = latent_generate_1(freencodermodel, test_TL[k])\n",
    "\n",
    "# 이미지 : 랜덤한 latent variable 생성 / 응답 : Testset에서 랜덤하게 하나 생성 후 frequency decoder에 입력하여 차원 축소\n",
    "plt.figure(figsize=(20, 5))\n",
    "for i in range(10):\n",
    "    plt.subplot(1, 10, i+1)\n",
    "    \n",
    "    z_image = np.reshape(reparameterize_random(), (1, 8))\n",
    "    z_d = tf.reshape(tf.concat([z_image, z_fre], axis=0), (1, 16))\n",
    "\n",
    "    # Decoder를 통해 이미지 생성\n",
    "    reco = dist_decode(z_d)\n",
    "    reco_re = np.reshape(reco, (128, 64))\n",
    "\n",
    "    # 생성된 이미지 plot\n",
    "    plt.imshow(reco_re, cmap = 'gray')\n",
    "    plt.gca().axes.xaxis.set_visible(False)\n",
    "    plt.gca().axes.yaxis.set_visible(False)\n",
    "\n",
    "plt.show()\n",
    "\n",
    "# 선택된 응답 plot\n",
    "plt.plot(np.arange(1, 2000, 40), np.reshape(test_TL[k], (50)))\n",
    "plt.show()"
   ]
  },
  {
   "cell_type": "markdown",
   "metadata": {},
   "source": [
    "## Latent space Perturbation"
   ]
  },
  {
   "cell_type": "code",
   "execution_count": 24,
   "metadata": {},
   "outputs": [
    {
     "name": "stdout",
     "output_type": "stream",
     "text": [
      "1\n",
      "2\n",
      "3\n",
      "4\n"
     ]
    },
    {
     "data": {
      "image/png": "[encoded data removed]",
      "text/plain": [
       "<Figure size 1600x800 with 64 Axes>"
      ]
     },
     "metadata": {},
     "output_type": "display_data"
    }
   ],
   "source": [
    "perturbation_list = np.arange(-1.6, 1.6, 0.2)\n",
    "plt.figure(figsize = (16, 8))\n",
    "num = 0\n",
    "for i in [0, 1, 3, 7]:\n",
    "    for j in range(len(perturbation_list)):\n",
    "\n",
    "        plt.subplot(4, len(perturbation_list), num*len(perturbation_list)+j+1)\n",
    "        \n",
    "        # i번째 latent variable을 변화시킴\n",
    "        latent_list = np.zeros((8))\n",
    "        latent_list[i] = perturbation_list[j]\n",
    "        z_d = tf.reshape(tf.concat([np.reshape(latent_list, (1, 8)), z_fre], axis=0), (1, 16))\n",
    "        \n",
    "        # Decoder를 통해 이미지 생성\n",
    "        reco = dist_decode(z_d)\n",
    "        reco_re = np.reshape(reco, (128, 64))\n",
    "\n",
    "        # 생성된 이미지 plot\n",
    "        plt.imshow(reco_re, cmap = 'gray')\n",
    "        plt.gca().axes.xaxis.set_visible(False)\n",
    "        plt.gca().axes.yaxis.set_visible(False)\n",
    "\n",
    "    num += 1\n",
    "    print(num)\n",
    "plt.show()\n"
   ]
  }
 ],
 "metadata": {
  "kernelspec": {
   "display_name": "Python 3",
   "language": "python",
   "name": "python3"
  },
  "language_info": {
   "codemirror_mode": {
    "name": "ipython",
    "version": 3
   },
   "file_extension": ".py",
   "mimetype": "text/x-python",
   "name": "python",
   "nbconvert_exporter": "python",
   "pygments_lexer": "ipython3",
   "version": "3.7.9"
  }
 },
 "nbformat": 4,
 "nbformat_minor": 2
}

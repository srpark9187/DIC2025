{
 "cells": [
  {
   "cell_type": "markdown",
   "metadata": {},
   "source": [
    "# VAE를 통한 목표 소음 저감 성능을 만족하는 통기성 소음 감쇠기 구조 역설계"
   ]
  },
  {
   "cell_type": "markdown",
   "metadata": {},
   "source": [
    "![overall_flow](picture/overall_flow.png)"
   ]
  },
  {
   "cell_type": "markdown",
   "metadata": {},
   "source": [
    "VAE를 통한 통기성 소음 감쇠기(Ventilated acoustic resonator) 역설계\n",
    "- 음향 반응(Acoustic Response) 을 입력하면 다양한 통기성 소음 감쇠기 구조를 생성하는 인공지능 모델\n",
    "- VAE 구조를 통해 통기성 소음 감쇠기 구조 학습하여 이미지 분포 생성\n",
    "- VAE 구조의 잠재 공간(Latent space) 과 차원 축소된 음향 반응을 결합하여 감쇠기 구조와 음향 반응을 반영한 새로운 형태의 감쇠기 구조 생성 목표"
   ]
  },
  {
   "cell_type": "code",
   "execution_count": null,
   "metadata": {},
   "outputs": [],
   "source": [
    "from random import sample\n",
    "from re import T\n",
    "import matplotlib.pyplot as plt\n",
    "import numpy as np\n",
    "import tensorflow as tf\n",
    "import time\n",
    "from sklearn.model_selection import train_test_split\n",
    "import pandas as pd\n",
    "import cv2\n",
    "from sklearn.cluster import KMeans\n",
    "import matplotlib.pyplot as plt\n",
    "from sklearn import preprocessing\n",
    "from sklearn.preprocessing import StandardScaler\n",
    "from sklearn.decomposition import PCA\n",
    "import matplotlib.pyplot as plt\n",
    "import matplotlib as mlp\n",
    "from sklearn.mixture import GaussianMixture\n",
    "from sklearn.cluster import MeanShift, estimate_bandwidth\n"
   ]
  },
  {
   "cell_type": "markdown",
   "metadata": {},
   "source": [
    "# 통기성 소음 감쇠기 데이터 불러오기"
   ]
  },
  {
   "cell_type": "markdown",
   "metadata": {},
   "source": [
    "## 이미지 및 시뮬레이션 결과 데이터 불러오기"
   ]
  },
  {
   "cell_type": "markdown",
   "metadata": {},
   "source": [
    "구조 파라미터 : 이미지로 저장 시 불러오는 시간 소요 증가. 따라서 구조 파라미터를 불러온 후 이미지로 변환  \n",
    "시뮬레이션 결과 : 1~1961Hz 를 40Hz 간격으로 총 50개의 Hz에 대한 투과 손실(Transmission loss) 데이터 → 학습을 위해 (dataset 개수, 50, 1)로 reshape\n",
    "\n",
    "Train dataset : 37,345개  \n",
    "Test dataset : 16,005개\n",
    "Total dataset : 53,350개"
   ]
  },
  {
   "cell_type": "markdown",
   "metadata": {},
   "source": [
    "![data_](picture/data_.png)"
   ]
  },
  {
   "cell_type": "code",
   "execution_count": 1,
   "metadata": {},
   "outputs": [
    {
     "ename": "NameError",
     "evalue": "name 'np' is not defined",
     "output_type": "error",
     "traceback": [
      "\u001b[1;31m---------------------------------------------------------------------------\u001b[0m",
      "\u001b[1;31mNameError\u001b[0m                                 Traceback (most recent call last)",
      "\u001b[1;32mC:\\Users\\Public\\Documents\\ESTsoft\\CreatorTemp\\ipykernel_17512\\3491716390.py\u001b[0m in \u001b[0;36m<module>\u001b[1;34m\u001b[0m\n\u001b[1;32m----> 1\u001b[1;33m \u001b[0mparameter_train\u001b[0m \u001b[1;33m=\u001b[0m \u001b[0mnp\u001b[0m\u001b[1;33m.\u001b[0m\u001b[0marray\u001b[0m\u001b[1;33m(\u001b[0m\u001b[0mpd\u001b[0m\u001b[1;33m.\u001b[0m\u001b[0mread_csv\u001b[0m\u001b[1;33m(\u001b[0m\u001b[1;34m'data/inverse_design/accept2_parameter_train.csv'\u001b[0m\u001b[1;33m,\u001b[0m\u001b[0mheader\u001b[0m\u001b[1;33m=\u001b[0m\u001b[1;32mNone\u001b[0m\u001b[1;33m)\u001b[0m\u001b[1;33m)\u001b[0m\u001b[1;33m\u001b[0m\u001b[1;33m\u001b[0m\u001b[0m\n\u001b[0m\u001b[0;32m      2\u001b[0m \u001b[0mparameter_test\u001b[0m \u001b[1;33m=\u001b[0m \u001b[0mnp\u001b[0m\u001b[1;33m.\u001b[0m\u001b[0marray\u001b[0m\u001b[1;33m(\u001b[0m\u001b[0mpd\u001b[0m\u001b[1;33m.\u001b[0m\u001b[0mread_csv\u001b[0m\u001b[1;33m(\u001b[0m\u001b[1;34m'data/inverse_design/accept2_parameter_test.csv'\u001b[0m\u001b[1;33m,\u001b[0m\u001b[0mheader\u001b[0m\u001b[1;33m=\u001b[0m\u001b[1;32mNone\u001b[0m\u001b[1;33m)\u001b[0m\u001b[1;33m)\u001b[0m\u001b[1;33m\u001b[0m\u001b[1;33m\u001b[0m\u001b[0m\n\u001b[0;32m      3\u001b[0m \u001b[0mtrain_TL\u001b[0m \u001b[1;33m=\u001b[0m \u001b[0mnp\u001b[0m\u001b[1;33m.\u001b[0m\u001b[0marray\u001b[0m\u001b[1;33m(\u001b[0m\u001b[0mpd\u001b[0m\u001b[1;33m.\u001b[0m\u001b[0mread_csv\u001b[0m\u001b[1;33m(\u001b[0m\u001b[1;34m'data/inverse_design/accept2_TL_train.csv'\u001b[0m\u001b[1;33m,\u001b[0m\u001b[0mheader\u001b[0m\u001b[1;33m=\u001b[0m\u001b[1;32mNone\u001b[0m\u001b[1;33m)\u001b[0m\u001b[1;33m)\u001b[0m\u001b[1;33m.\u001b[0m\u001b[0mreshape\u001b[0m\u001b[1;33m(\u001b[0m\u001b[1;36m37345\u001b[0m\u001b[1;33m,\u001b[0m\u001b[1;36m50\u001b[0m\u001b[1;33m,\u001b[0m\u001b[1;36m1\u001b[0m\u001b[1;33m)\u001b[0m\u001b[1;33m\u001b[0m\u001b[1;33m\u001b[0m\u001b[0m\n\u001b[0;32m      4\u001b[0m \u001b[0mtest_TL\u001b[0m \u001b[1;33m=\u001b[0m \u001b[0mnp\u001b[0m\u001b[1;33m.\u001b[0m\u001b[0marray\u001b[0m\u001b[1;33m(\u001b[0m\u001b[0mpd\u001b[0m\u001b[1;33m.\u001b[0m\u001b[0mread_csv\u001b[0m\u001b[1;33m(\u001b[0m\u001b[1;34m'data/inverse_design/accept2_TL_test.csv'\u001b[0m\u001b[1;33m,\u001b[0m\u001b[0mheader\u001b[0m\u001b[1;33m=\u001b[0m\u001b[1;32mNone\u001b[0m\u001b[1;33m)\u001b[0m\u001b[1;33m)\u001b[0m\u001b[1;33m.\u001b[0m\u001b[0mreshape\u001b[0m\u001b[1;33m(\u001b[0m\u001b[1;36m16005\u001b[0m\u001b[1;33m,\u001b[0m\u001b[1;36m50\u001b[0m\u001b[1;33m,\u001b[0m\u001b[1;36m1\u001b[0m\u001b[1;33m)\u001b[0m\u001b[1;33m\u001b[0m\u001b[1;33m\u001b[0m\u001b[0m\n",
      "\u001b[1;31mNameError\u001b[0m: name 'np' is not defined"
     ]
    }
   ],
   "source": [
    "parameter_train = np.array(pd.read_csv('data/inverse_design/accept2_parameter_train.csv',header=None))\n",
    "parameter_test = np.array(pd.read_csv('data/inverse_design/accept2_parameter_test.csv',header=None))\n",
    "train_TL = np.array(pd.read_csv('data/inverse_design/accept2_TL_train.csv',header=None)).reshape(37345,50,1)\n",
    "test_TL = np.array(pd.read_csv('data/inverse_design/accept2_TL_test.csv',header=None)).reshape(16005,50,1)"
   ]
  },
  {
   "cell_type": "markdown",
   "metadata": {},
   "source": [
    "## 이미지 파라미터 데이터 → 이미지로 변환"
   ]
  },
  {
   "cell_type": "markdown",
   "metadata": {},
   "source": [
    "파라미터를 (128×64) 이미지로 변환  \n",
    "cv2 라이브러리를 통해 직사각형 구조 생성(CV2 : 컴퓨터 비전 라이브러리)"
   ]
  },
  {
   "cell_type": "markdown",
   "metadata": {},
   "source": [
    "![parameter_image](picture/parameter_image.png)"
   ]
  },
  {
   "cell_type": "markdown",
   "metadata": {},
   "source": [
    "구조 파라미터 → 이미지 생성을 위한 Class 정의"
   ]
  },
  {
   "cell_type": "code",
   "execution_count": 3,
   "metadata": {},
   "outputs": [],
   "source": [
    "class generator():\n",
    "    \n",
    "    def __init__(self):\n",
    "        self.width = 64\n",
    "        self.height= 128\n",
    "\n",
    "    def geometry(self,ta,d,rd,ra,l):\n",
    "        self.case = np.zeros((self.height,self.width, 3),dtype = np.float32)\n",
    "        self.case = cv2.rectangle(self.case,(16,self.height-rd),(55,self.height-1),(255,255,255),-1)\n",
    "        self.case = cv2.rectangle(self.case,(36-d,self.height-rd-l),(36+d-1,self.height-rd-1),(255,255,255),-1)\n",
    "        self.case = cv2.rectangle(self.case,(36-ta,self.height-ra),(36+ta-1, self.height-rd-l-1),(255,255,255),-1)\n",
    "        self.case = cv2.cvtColor(self.case, cv2.COLOR_BGR2GRAY)\n",
    "        self.case = self.case.reshape( self.case.shape+(1,))\n",
    "        self.case = self.case/255\n",
    "        return self.case\n",
    "generator = generator()"
   ]
  },
  {
   "cell_type": "markdown",
   "metadata": {},
   "source": [
    "구조 데이터에 대한 Train, Test 데이터 셋을 이미지화"
   ]
  },
  {
   "cell_type": "code",
   "execution_count": 4,
   "metadata": {},
   "outputs": [
    {
     "name": "stdout",
     "output_type": "stream",
     "text": [
      "(37345, 128, 64, 1) train image 생성 끝\n",
      "(16005, 128, 64, 1) test image 생성 끝\n"
     ]
    }
   ],
   "source": [
    "\n",
    "#%%\n",
    "train_images = []\n",
    "test_images = []\n",
    "for i in range(len(parameter_train)):\n",
    "    train_image1 = np.array(generator.geometry(parameter_train[i,0],parameter_train[i,1],parameter_train[i,2],parameter_train[i,3],\n",
    "                                               parameter_train[i,4]))\n",
    "    parameter_num = np.array(np.ones(64)*i).reshape(1,64,1)\n",
    "    train_images.append(train_image1)\n",
    "print(np.shape(train_images),'train image 생성 끝')\n",
    "\n",
    "for i in range(len(parameter_test)):\n",
    "    test_image1 = np.array(generator.geometry(parameter_test[i,0],parameter_test[i,1],parameter_test[i,2],parameter_test[i,3],\n",
    "                                              parameter_test[i,4]))\n",
    "    parameter_num = np.array(np.ones(64)*i).reshape(1,64,1)\n",
    "    test_images.append(test_image1)\n",
    "print(np.shape(test_images),'test image 생성 끝')"
   ]
  },
  {
   "cell_type": "markdown",
   "metadata": {},
   "source": [
    "## 데이터 배치 슬라이스"
   ]
  },
  {
   "cell_type": "code",
   "execution_count": null,
   "metadata": {},
   "outputs": [
    {
     "name": "stdout",
     "output_type": "stream",
     "text": [
      "1\n",
      "train 수: 37345 test 수: 16005\n"
     ]
    }
   ],
   "source": [
    "batch_size = 32\n",
    "train_dataset = tf.data.Dataset.from_tensor_slices((train_images,train_TL)).shuffle(1).batch(batch_size)\n",
    "test_dataset = tf.data.Dataset.from_tensor_slices((test_images,test_TL)).shuffle(1).batch(batch_size) \n",
    "print('train 수:',len(train_images),'test 수:',len(test_images))"
   ]
  },
  {
   "cell_type": "markdown",
   "metadata": {},
   "source": [
    "## 데이터 배치 슬라이스"
   ]
  },
  {
   "cell_type": "markdown",
   "metadata": {},
   "source": [
    "![vae_exp_structure](picture/vae_exp_structure.png)"
   ]
  },
  {
   "cell_type": "markdown",
   "metadata": {},
   "source": [
    "![vae_explain](picture/vae_explain.png)"
   ]
  },
  {
   "cell_type": "markdown",
   "metadata": {},
   "source": [
    "![VAE](picture/VAE.png)"
   ]
  },
  {
   "cell_type": "markdown",
   "metadata": {},
   "source": [
    "## Encoder 구조 생성"
   ]
  },
  {
   "cell_type": "markdown",
   "metadata": {},
   "source": [
    "VAE 구조에서 Encoder의 신경망 구조\n",
    "- 통기성 소음 감쇠기 구조 학습을 위한 Convolutional neural network(CNN) 활용 + ResNet\n",
    "- CNN 이후 'flatten' 을 통해 Deep nerual network(DNN) 구조로 변환\n",
    "- 출력은 12차원의 잠재 공간(Latent space)를 나타내기 위해 (평균 12개 + 분산 12개) → 총 24개  "
   ]
  },
  {
   "cell_type": "markdown",
   "metadata": {},
   "source": [
    "![encoder](picture/encoder.png)"
   ]
  },
  {
   "cell_type": "code",
   "execution_count": 6,
   "metadata": {},
   "outputs": [],
   "source": [
    "class Encoder(tf.keras.Model):\n",
    "    def __init__(self):\n",
    "        super(Encoder, self).__init__()\n",
    "        self.conv0_0 = tf.keras.layers.Conv2D(8,(1,1), strides= 1, padding='valid')\n",
    "        self.conv0_1 = tf.keras.layers.Conv2D(8,(3,3), strides= 1, padding='same')\n",
    "        self.conv0_2 = tf.keras.layers.Conv2D(16,(1,1), strides= 1, padding='valid')\n",
    "        self.conv1_0 = tf.keras.layers.Conv2D(16,(1,1), strides= 2, padding='valid')\n",
    "        self.conv1_1 = tf.keras.layers.Conv2D(16,(3,3), strides= 1, padding='same')\n",
    "        self.conv1_2 = tf.keras.layers.Conv2D(32,(1,1), strides= 1, padding='valid')\n",
    "        self.conv2_0 = tf.keras.layers.Conv2D(32,(1,1), strides= 2, padding='valid')\n",
    "        self.conv2_1 = tf.keras.layers.Conv2D(32,(3,3), strides= 1, padding='same')\n",
    "        self.conv2_2 = tf.keras.layers.Conv2D(64,(1,1), strides= 1, padding='valid')\n",
    "        self.conv3_0 = tf.keras.layers.Conv2D(64,(1,1), strides= 2, padding='valid')\n",
    "        self.conv3_1 = tf.keras.layers.Conv2D(64,(3,3), strides= 1, padding='same')\n",
    "        self.conv3_2 = tf.keras.layers.Conv2D(128,(1,1), strides= 1, padding='valid')\n",
    "\n",
    "        self.batch0_0 = tf.keras.layers.BatchNormalization()\n",
    "        self.batch0_1 = tf.keras.layers.BatchNormalization()\n",
    "        self.batch0_2 = tf.keras.layers.BatchNormalization()\n",
    "        self.batch1_0 = tf.keras.layers.BatchNormalization()\n",
    "        self.batch1_1 = tf.keras.layers.BatchNormalization()\n",
    "        self.batch1_2 = tf.keras.layers.BatchNormalization()\n",
    "        self.batch2_0 = tf.keras.layers.BatchNormalization()\n",
    "        self.batch2_1 = tf.keras.layers.BatchNormalization()\n",
    "        self.batch2_2 = tf.keras.layers.BatchNormalization()\n",
    "        self.batch3_0 = tf.keras.layers.BatchNormalization()\n",
    "        self.batch3_1 = tf.keras.layers.BatchNormalization()\n",
    "        self.batch3_2 = tf.keras.layers.BatchNormalization()\n",
    "\n",
    "        self.act0_0 = tf.keras.layers.Activation('relu')\n",
    "        self.act0_1 = tf.keras.layers.Activation('relu')\n",
    "        self.act1_0 = tf.keras.layers.Activation('relu')\n",
    "        self.act1_1 = tf.keras.layers.Activation('relu')\n",
    "        self.act2_0 = tf.keras.layers.Activation('relu')\n",
    "        self.act2_1 = tf.keras.layers.Activation('relu')\n",
    "        self.act3_0 = tf.keras.layers.Activation('relu')\n",
    "        self.act3_1 = tf.keras.layers.Activation('relu')\n",
    "\n",
    "        self.res0 = tf.keras.layers.Conv2D(16, (1,1), strides = 1, padding='valid')\n",
    "        self.res1 = tf.keras.layers.Conv2D(32, (1,1), strides = 2, padding='valid')\n",
    "        self.res2 = tf.keras.layers.Conv2D(64, (1,1), strides = 2, padding='valid')\n",
    "        self.res3 = tf.keras.layers.Conv2D(128, (1,1), strides = 2, padding='valid')\n",
    "        \n",
    "        self.batch0_r = tf.keras.layers.BatchNormalization()\n",
    "        self.batch1_r = tf.keras.layers.BatchNormalization()\n",
    "        self.batch2_r = tf.keras.layers.BatchNormalization()\n",
    "        self.batch3_r = tf.keras.layers.BatchNormalization()\n",
    "\n",
    "        self.drop0 = tf.keras.layers.Dropout(0.3)\n",
    "        self.drop1 = tf.keras.layers.Dropout(0.3)\n",
    "\n",
    "        self.flat1 = tf.keras.layers.Flatten()\n",
    "        self.d2 = tf.keras.layers.Dense(100, activation= 'LeakyReLU')\n",
    "        self.d3 = tf.keras.layers.Dense(100, activation= 'LeakyReLU')\n",
    "        self.d4 = tf.keras.layers.Dense(24, activation= 'LeakyReLU')\n",
    "        \n",
    "    def call(self,x):\n",
    "        x_shortcut0 = x\n",
    "        x = self.conv0_0(x)\n",
    "        x = self.batch0_0(x)\n",
    "        x = self.act0_0(x)\n",
    "        x = self.conv0_1(x)\n",
    "        x = self.batch0_1(x)\n",
    "        x = self.act0_1(x)\n",
    "        x = self.conv0_2(x)\n",
    "        x = self.batch0_2(x)\n",
    "        x_shortcut0 = self.res0(x_shortcut0)\n",
    "        x_shortcut0 = self.batch0_r(x_shortcut0)\n",
    "        x = tf.keras.layers.Add()([x,x_shortcut0])\n",
    "        x = tf.keras.layers.Activation('relu')(x)\n",
    "\n",
    "        x_shortcut1 = x\n",
    "        x = self.conv1_0(x)\n",
    "        x = self.batch1_0(x)\n",
    "        x = self.act1_0(x)\n",
    "        x = self.conv1_1(x)\n",
    "        x = self.batch1_1(x)\n",
    "        x = self.act1_1(x)\n",
    "        x = self.conv1_2(x)\n",
    "        x = self.batch1_2(x)\n",
    "        x_shortcut1 = self.res1(x_shortcut1)\n",
    "        x_shortcut1 = self.batch1_r(x_shortcut1)\n",
    "        x = tf.keras.layers.Add()([x,x_shortcut1])\n",
    "        x = tf.keras.layers.Activation('relu')(x)\n",
    "\n",
    "        x_shortcut2 = x\n",
    "        x = self.conv2_0(x)\n",
    "        x = self.batch2_0(x)\n",
    "        x = self.act2_0(x)\n",
    "        x = self.conv2_1(x)\n",
    "        x = self.batch2_1(x)\n",
    "        x = self.act2_1(x)\n",
    "        x = self.conv2_2(x)\n",
    "        x = self.batch2_2(x)\n",
    "        x_shortcut2 = self.res2(x_shortcut2)\n",
    "        x_shortcut2 = self.batch2_r(x_shortcut2)\n",
    "        x = tf.keras.layers.Add()([x,x_shortcut2])\n",
    "        x = tf.keras.layers.Activation('relu')(x)\n",
    "        \n",
    "        x_shortcut3 = x\n",
    "        x = self.conv3_0(x)\n",
    "        x = self.batch3_0(x)\n",
    "        x = self.act3_0(x)\n",
    "        x = self.conv3_1(x)\n",
    "        x = self.batch3_1(x)\n",
    "        x = self.act3_1(x)\n",
    "        x = self.conv3_2(x)\n",
    "        x = self.batch3_2(x)\n",
    "        x_shortcut3 = self.res3(x_shortcut3)\n",
    "        x_shortcut3 = self.batch3_r(x_shortcut3)\n",
    "        x = tf.keras.layers.Add()([x,x_shortcut3])\n",
    "        x = tf.keras.layers.Activation('relu')(x)\n",
    "\n",
    "        x = self.flat1(x)\n",
    "        x = self.d2(x)\n",
    "        x = self.drop0(x)\n",
    "        x = self.d3(x)\n",
    "        x = self.drop1(x)\n",
    "        return self.d4(x)\n",
    "encoder = Encoder()"
   ]
  },
  {
   "cell_type": "markdown",
   "metadata": {},
   "source": [
    "## Frequency Encoder 구조 생성"
   ]
  },
  {
   "cell_type": "markdown",
   "metadata": {},
   "source": [
    "Q9.    \n",
    "정의된 layer 를 순서대로 호출    \n",
    "convolution layer 0 : con0    \n",
    "convolution layer 1 : con1    \n",
    "batch normalization 1 : batch1    \n",
    "convolution layer 2 : con2    \n",
    "convolution layer 3 : con3    "
   ]
  },
  {
   "cell_type": "code",
   "execution_count": 7,
   "metadata": {},
   "outputs": [],
   "source": [
    "\n",
    "class FrequencyEncoder(tf.keras.Model):\n",
    "\n",
    "    def __init__(self):\n",
    "        super(FrequencyEncoder, self).__init__()\n",
    "        self.den0 = tf.keras.layers.Dense(256, activation='LeakyReLU')#leaky relu\n",
    "        self.den1 = tf.keras.layers.Dense(64, activation='LeakyReLU')\n",
    "        self.den3 = tf.keras.layers.Dense(8, activation='LeakyReLU')\n",
    "        self.con0 = tf.keras.layers.Conv1D(16,3,padding='valid',activation='relu')\n",
    "        self.con1 = tf.keras.layers.Conv1D(32,3,padding='valid',activation='relu')\n",
    "        self.con2 = tf.keras.layers.Conv1D(64,3,padding='valid',activation='relu')\n",
    "        self.con3 = tf.keras.layers.Conv1D(128,3,padding='valid',activation='relu')\n",
    "        self.flat = tf.keras.layers.Flatten()\n",
    "        self.batch1 = tf.keras.layers.BatchNormalization()\n",
    "        self.batch2 = tf.keras.layers.BatchNormalization()\n",
    "        self.drop2=tf.keras.layers.Dropout(0.3)\n",
    "        self.drop3=tf.keras.layers.Dropout(0.3)\n",
    "    \n",
    "    def call(self,x):\n",
    "        x = self.con0(x)\n",
    "        x = self.con1(x)\n",
    "        x = self.batch1(x)\n",
    "        x = self.con2(x)\n",
    "        x = self.con3(x)\n",
    "        x = self.batch2(x)\n",
    "        x = self.flat(x)\n",
    "        x = self.den0(x)\n",
    "        x = self.drop2(x)\n",
    "        x = self.den1(x)\n",
    "        x = self.drop3(x)\n",
    "        \n",
    "        return self.den3(x)\n",
    "\n",
    "frequencyencoder = FrequencyEncoder()\n"
   ]
  },
  {
   "cell_type": "markdown",
   "metadata": {},
   "source": [
    "## Decoder 구조 생성"
   ]
  },
  {
   "cell_type": "markdown",
   "metadata": {},
   "source": [
    "![decoder_rot](picture/decoder_rot.png)"
   ]
  },
  {
   "cell_type": "code",
   "execution_count": 8,
   "metadata": {},
   "outputs": [],
   "source": [
    "\n",
    "class Decoder(tf.keras.Model):\n",
    "    def __init__(self):\n",
    "        super(Decoder, self).__init__()\n",
    "        self.flat = tf.keras.layers.Flatten()\n",
    "        self.den00 = tf.keras.layers.Dense(2*1*128)\n",
    "        self.act00 = tf.keras.layers.Activation('LeakyReLU')\n",
    "        self.den0 = tf.keras.layers.Dense(4*2*128)\n",
    "        self.batch0 = tf.keras.layers.BatchNormalization()\n",
    "        self.act0 = tf.keras.layers.Activation('LeakyReLU')\n",
    "        self.regular0 = tf.keras.layers.ActivityRegularization()\n",
    "        self.drop0 = tf.keras.layers.Dropout(0.2)\n",
    "        self.den1 = tf.keras.layers.Dense(16*8*128)\n",
    "        self.batch1 = tf.keras.layers.BatchNormalization()\n",
    "        self.act1 = tf.keras.layers.Activation('LeakyReLU')\n",
    "        self.regular1 = tf.keras.layers.ActivityRegularization()\n",
    "        self.drop1 = tf.keras.layers.Dropout(0.2)\n",
    "        self.reshape0 = tf.keras.layers.Reshape(target_shape = (16,8,128))\n",
    "        self.convt0 = tf.keras.layers.Conv2DTranspose(filters=8, kernel_size=3, strides=2, padding='same')\n",
    "        self.batch2 = tf.keras.layers.BatchNormalization()\n",
    "        self.act2 = tf.keras.layers.Activation('LeakyReLU')\n",
    "        self.convt1 = tf.keras.layers.Conv2DTranspose(filters=16, kernel_size=3, strides=2, padding='same')\n",
    "        self.batch3 = tf.keras.layers.BatchNormalization()\n",
    "        self.act3 = tf.keras.layers.Activation('LeakyReLU')\n",
    "        self.convt2 = tf.keras.layers.Conv2DTranspose(filters=32, kernel_size=3, strides=2, padding='same')\n",
    "        self.batch4 = tf.keras.layers.BatchNormalization()\n",
    "        self.act4 = tf.keras.layers.Activation('LeakyReLU')\n",
    "        self.convt3 = tf.keras.layers.Conv2DTranspose(filters=1, kernel_size=3, strides=1, padding='same')\n",
    "        self.act4 = tf.keras.layers.Activation('sigmoid')\n",
    "    \n",
    "    def call(self,x):\n",
    "        x = self.flat(x)\n",
    "        x = self.den00(x)\n",
    "        x = self.act00(x)\n",
    "        x = self.den0(x)\n",
    "        x = self.batch0(x)\n",
    "        x = self.act0(x)\n",
    "        x = self.regular0(x)\n",
    "        x = self.drop0(x)\n",
    "        x = self.den1(x)\n",
    "        x = self.batch1(x)\n",
    "        x = self.act1(x)\n",
    "        x = self.regular1(x)\n",
    "        x = self.drop1(x)\n",
    "        x = self.reshape0(x)\n",
    "        x = self.convt0(x)\n",
    "        x = self.batch2(x)\n",
    "        x = self.act2(x)\n",
    "        x = self.convt1(x)\n",
    "        x = self.batch3(x)\n",
    "        x = self.act3(x)\n",
    "        x = self.convt2(x)\n",
    "        x = self.batch4(x)\n",
    "        x = self.act4(x)\n",
    "        x = self.convt3(x)\n",
    "        return self.act4(x)\n",
    "decoder = Decoder()    "
   ]
  },
  {
   "cell_type": "markdown",
   "metadata": {},
   "source": [
    "## 전체 딥러닝 구조 선언"
   ]
  },
  {
   "cell_type": "code",
   "execution_count": null,
   "metadata": {},
   "outputs": [],
   "source": [
    "\n",
    "class VAE(tf.keras.Model):\n",
    "    \n",
    "    def __init__(self):\n",
    "        super(VAE, self).__init__()\n",
    "        self.encoder = encoder\n",
    "        self.frequencyencoder = frequencyencoder\n",
    "        self.decoder = decoder\n",
    "\n",
    "    def encode(self, x):\n",
    "        mean, logvar = tf.split(self.encoder(x), num_or_size_splits=2, axis=1)\n",
    "        return mean, logvar\n",
    "    \n",
    "    def fre_encode(self, x):\n",
    "        z=self.frequencyencoder(x)\n",
    "        mean, logvar = tf.split(z, num_or_size_splits=2, axis=1)\n",
    "        return mean, logvar ,z\n",
    "\n",
    "    def reparameterize(self, mean, logvar):\n",
    "        eps = tf.random.normal(shape=mean.shape)\n",
    "        return eps * tf.exp(logvar * .5) + mean\n",
    "\n",
    "    def decode(self, z):\n",
    "        logits = self.decoder(z)\n",
    "        return logits\n",
    "\n",
    "optimizer = tf.keras.optimizers.Adam(1e-5)"
   ]
  },
  {
   "cell_type": "markdown",
   "metadata": {},
   "source": [
    "## 학습을 위한 loss function 선언"
   ]
  },
  {
   "cell_type": "markdown",
   "metadata": {},
   "source": [
    "![loss_function](picture/loss_function.png)"
   ]
  },
  {
   "cell_type": "code",
   "execution_count": 10,
   "metadata": {},
   "outputs": [],
   "source": [
    "\n",
    "def KLD(mean,logvar):\n",
    "    return tf.reduce_sum(-.5 *( 1- mean ** 2. - tf.exp(logvar) + logvar),axis=1)\n",
    "    \n",
    "def compute_loss(model, x,y):\n",
    "\n",
    "    mean, logvar = model.encode(x)\n",
    "    z_image = tf.stack((mean,logvar),axis=0)\n",
    "    mean_recon=mean[:,:8]\n",
    "    logvar_recon=logvar[:,:8]\n",
    "    z_image_mse=z_image[:,:,8:]\n",
    "\n",
    "    mean_fre, logvar_fre ,fre_recon= model.fre_encode(y)\n",
    "    z_fre = tf.stack((mean_fre,logvar_fre),axis=0)\n",
    "    \n",
    "    latent_loss = tf.keras.losses.MeanSquaredError()\n",
    "    latent_loss=latent_loss(z_image_mse,z_fre)\n",
    "\n",
    "    z = model.reparameterize(mean_recon, logvar_recon)\n",
    "    z = tf.concat([z,fre_recon],axis=1)\n",
    "    x_logit = model.decode(z)\n",
    "    \n",
    "    cross_ent = tf.keras.losses.binary_crossentropy(x,x_logit)\n",
    "    recontruction_loss = tf.reduce_mean(tf.reduce_sum(cross_ent,axis=(1,2)))\n",
    "    KLD_loss = KLD(mean,logvar)\n",
    "    KLD_loss = tf.reduce_mean(KLD_loss)\n",
    "    vae_loss = recontruction_loss + KLD_loss\n",
    "\n",
    "    return tf.reduce_sum(latent_loss+vae_loss), latent_loss,vae_loss,recontruction_loss,KLD_loss\n",
    "\n",
    "\n",
    "@tf.function\n",
    "def train_step(model, x,y, optimizer):\n",
    "    with tf.GradientTape() as tape:\n",
    "        sum_loss,latent_loss,vae_loss,recontruction_loss,KLD_loss = compute_loss(model,x,y)\n",
    "    gradients = tape.gradient(sum_loss, model.trainable_variables)\n",
    "    optimizer.apply_gradients(zip(gradients, model.trainable_variables))\n",
    "    return sum_loss,latent_loss,vae_loss,recontruction_loss,KLD_loss"
   ]
  },
  {
   "cell_type": "markdown",
   "metadata": {},
   "source": [
    "# VAE 모델 학습"
   ]
  },
  {
   "cell_type": "code",
   "execution_count": null,
   "metadata": {},
   "outputs": [
    {
     "ename": "KeyboardInterrupt",
     "evalue": "",
     "output_type": "error",
     "traceback": [
      "\u001b[1;31m---------------------------------------------------------------------------\u001b[0m",
      "\u001b[1;31mKeyboardInterrupt\u001b[0m                         Traceback (most recent call last)",
      "\u001b[1;32mC:\\Users\\Public\\Documents\\ESTsoft\\CreatorTemp\\ipykernel_38148\\1274658965.py\u001b[0m in \u001b[0;36m<module>\u001b[1;34m\u001b[0m\n\u001b[0;32m     19\u001b[0m     \u001b[0md1\u001b[0m\u001b[1;33m,\u001b[0m\u001b[0me1\u001b[0m\u001b[1;33m,\u001b[0m\u001b[0mf1\u001b[0m\u001b[1;33m,\u001b[0m\u001b[0mg1\u001b[0m\u001b[1;33m,\u001b[0m\u001b[0mh1\u001b[0m \u001b[1;33m=\u001b[0m \u001b[1;36m0\u001b[0m\u001b[1;33m,\u001b[0m\u001b[1;36m0\u001b[0m\u001b[1;33m,\u001b[0m\u001b[1;36m0\u001b[0m\u001b[1;33m,\u001b[0m\u001b[1;36m0\u001b[0m\u001b[1;33m,\u001b[0m\u001b[1;36m0\u001b[0m\u001b[1;33m\u001b[0m\u001b[1;33m\u001b[0m\u001b[0m\n\u001b[0;32m     20\u001b[0m     \u001b[1;32mfor\u001b[0m \u001b[0mtrain_x\u001b[0m\u001b[1;33m,\u001b[0m \u001b[0mtrain_y\u001b[0m \u001b[1;32min\u001b[0m \u001b[0mtrain_dataset\u001b[0m\u001b[1;33m:\u001b[0m\u001b[1;33m\u001b[0m\u001b[1;33m\u001b[0m\u001b[0m\n\u001b[1;32m---> 21\u001b[1;33m         \u001b[0md\u001b[0m\u001b[1;33m,\u001b[0m \u001b[0me\u001b[0m\u001b[1;33m,\u001b[0m \u001b[0mf\u001b[0m\u001b[1;33m,\u001b[0m \u001b[0mg\u001b[0m\u001b[1;33m,\u001b[0m \u001b[0mh\u001b[0m \u001b[1;33m=\u001b[0m\u001b[0mtrain_step\u001b[0m\u001b[1;33m(\u001b[0m\u001b[0mmodel\u001b[0m\u001b[1;33m,\u001b[0m \u001b[0mtrain_x\u001b[0m\u001b[1;33m,\u001b[0m \u001b[0mtrain_y\u001b[0m\u001b[1;33m,\u001b[0m \u001b[0moptimizer\u001b[0m\u001b[1;33m)\u001b[0m\u001b[1;33m\u001b[0m\u001b[1;33m\u001b[0m\u001b[0m\n\u001b[0m\u001b[0;32m     22\u001b[0m         \u001b[0md1\u001b[0m \u001b[1;33m+=\u001b[0m \u001b[0md\u001b[0m\u001b[1;33m\u001b[0m\u001b[1;33m\u001b[0m\u001b[0m\n\u001b[0;32m     23\u001b[0m         \u001b[0me1\u001b[0m \u001b[1;33m+=\u001b[0m \u001b[0me\u001b[0m\u001b[1;33m\u001b[0m\u001b[1;33m\u001b[0m\u001b[0m\n",
      "\u001b[1;32m~\\AppData\\Local\\Packages\\PythonSoftwareFoundation.Python.3.7_qbz5n2kfra8p0\\LocalCache\\local-packages\\Python37\\site-packages\\tensorflow\\python\\util\\traceback_utils.py\u001b[0m in \u001b[0;36merror_handler\u001b[1;34m(*args, **kwargs)\u001b[0m\n\u001b[0;32m    148\u001b[0m     \u001b[0mfiltered_tb\u001b[0m \u001b[1;33m=\u001b[0m \u001b[1;32mNone\u001b[0m\u001b[1;33m\u001b[0m\u001b[1;33m\u001b[0m\u001b[0m\n\u001b[0;32m    149\u001b[0m     \u001b[1;32mtry\u001b[0m\u001b[1;33m:\u001b[0m\u001b[1;33m\u001b[0m\u001b[1;33m\u001b[0m\u001b[0m\n\u001b[1;32m--> 150\u001b[1;33m       \u001b[1;32mreturn\u001b[0m \u001b[0mfn\u001b[0m\u001b[1;33m(\u001b[0m\u001b[1;33m*\u001b[0m\u001b[0margs\u001b[0m\u001b[1;33m,\u001b[0m \u001b[1;33m**\u001b[0m\u001b[0mkwargs\u001b[0m\u001b[1;33m)\u001b[0m\u001b[1;33m\u001b[0m\u001b[1;33m\u001b[0m\u001b[0m\n\u001b[0m\u001b[0;32m    151\u001b[0m     \u001b[1;32mexcept\u001b[0m \u001b[0mException\u001b[0m \u001b[1;32mas\u001b[0m \u001b[0me\u001b[0m\u001b[1;33m:\u001b[0m\u001b[1;33m\u001b[0m\u001b[1;33m\u001b[0m\u001b[0m\n\u001b[0;32m    152\u001b[0m       \u001b[0mfiltered_tb\u001b[0m \u001b[1;33m=\u001b[0m \u001b[0m_process_traceback_frames\u001b[0m\u001b[1;33m(\u001b[0m\u001b[0me\u001b[0m\u001b[1;33m.\u001b[0m\u001b[0m__traceback__\u001b[0m\u001b[1;33m)\u001b[0m\u001b[1;33m\u001b[0m\u001b[1;33m\u001b[0m\u001b[0m\n",
      "\u001b[1;32m~\\AppData\\Local\\Packages\\PythonSoftwareFoundation.Python.3.7_qbz5n2kfra8p0\\LocalCache\\local-packages\\Python37\\site-packages\\tensorflow\\python\\eager\\polymorphic_function\\polymorphic_function.py\u001b[0m in \u001b[0;36m__call__\u001b[1;34m(self, *args, **kwds)\u001b[0m\n\u001b[0;32m    878\u001b[0m \u001b[1;33m\u001b[0m\u001b[0m\n\u001b[0;32m    879\u001b[0m       \u001b[1;32mwith\u001b[0m \u001b[0mOptionalXlaContext\u001b[0m\u001b[1;33m(\u001b[0m\u001b[0mself\u001b[0m\u001b[1;33m.\u001b[0m\u001b[0m_jit_compile\u001b[0m\u001b[1;33m)\u001b[0m\u001b[1;33m:\u001b[0m\u001b[1;33m\u001b[0m\u001b[1;33m\u001b[0m\u001b[0m\n\u001b[1;32m--> 880\u001b[1;33m         \u001b[0mresult\u001b[0m \u001b[1;33m=\u001b[0m \u001b[0mself\u001b[0m\u001b[1;33m.\u001b[0m\u001b[0m_call\u001b[0m\u001b[1;33m(\u001b[0m\u001b[1;33m*\u001b[0m\u001b[0margs\u001b[0m\u001b[1;33m,\u001b[0m \u001b[1;33m**\u001b[0m\u001b[0mkwds\u001b[0m\u001b[1;33m)\u001b[0m\u001b[1;33m\u001b[0m\u001b[1;33m\u001b[0m\u001b[0m\n\u001b[0m\u001b[0;32m    881\u001b[0m \u001b[1;33m\u001b[0m\u001b[0m\n\u001b[0;32m    882\u001b[0m       \u001b[0mnew_tracing_count\u001b[0m \u001b[1;33m=\u001b[0m \u001b[0mself\u001b[0m\u001b[1;33m.\u001b[0m\u001b[0mexperimental_get_tracing_count\u001b[0m\u001b[1;33m(\u001b[0m\u001b[1;33m)\u001b[0m\u001b[1;33m\u001b[0m\u001b[1;33m\u001b[0m\u001b[0m\n",
      "\u001b[1;32m~\\AppData\\Local\\Packages\\PythonSoftwareFoundation.Python.3.7_qbz5n2kfra8p0\\LocalCache\\local-packages\\Python37\\site-packages\\tensorflow\\python\\eager\\polymorphic_function\\polymorphic_function.py\u001b[0m in \u001b[0;36m_call\u001b[1;34m(self, *args, **kwds)\u001b[0m\n\u001b[0;32m    910\u001b[0m       \u001b[1;31m# In this case we have created variables on the first call, so we run the\u001b[0m\u001b[1;33m\u001b[0m\u001b[1;33m\u001b[0m\u001b[1;33m\u001b[0m\u001b[0m\n\u001b[0;32m    911\u001b[0m       \u001b[1;31m# defunned version which is guaranteed to never create variables.\u001b[0m\u001b[1;33m\u001b[0m\u001b[1;33m\u001b[0m\u001b[1;33m\u001b[0m\u001b[0m\n\u001b[1;32m--> 912\u001b[1;33m       \u001b[1;32mreturn\u001b[0m \u001b[0mself\u001b[0m\u001b[1;33m.\u001b[0m\u001b[0m_no_variable_creation_fn\u001b[0m\u001b[1;33m(\u001b[0m\u001b[1;33m*\u001b[0m\u001b[0margs\u001b[0m\u001b[1;33m,\u001b[0m \u001b[1;33m**\u001b[0m\u001b[0mkwds\u001b[0m\u001b[1;33m)\u001b[0m  \u001b[1;31m# pylint: disable=not-callable\u001b[0m\u001b[1;33m\u001b[0m\u001b[1;33m\u001b[0m\u001b[0m\n\u001b[0m\u001b[0;32m    913\u001b[0m     \u001b[1;32melif\u001b[0m \u001b[0mself\u001b[0m\u001b[1;33m.\u001b[0m\u001b[0m_variable_creation_fn\u001b[0m \u001b[1;32mis\u001b[0m \u001b[1;32mnot\u001b[0m \u001b[1;32mNone\u001b[0m\u001b[1;33m:\u001b[0m\u001b[1;33m\u001b[0m\u001b[1;33m\u001b[0m\u001b[0m\n\u001b[0;32m    914\u001b[0m       \u001b[1;31m# Release the lock early so that multiple threads can perform the call\u001b[0m\u001b[1;33m\u001b[0m\u001b[1;33m\u001b[0m\u001b[1;33m\u001b[0m\u001b[0m\n",
      "\u001b[1;32m~\\AppData\\Local\\Packages\\PythonSoftwareFoundation.Python.3.7_qbz5n2kfra8p0\\LocalCache\\local-packages\\Python37\\site-packages\\tensorflow\\python\\eager\\polymorphic_function\\tracing_compiler.py\u001b[0m in \u001b[0;36m__call__\u001b[1;34m(self, *args, **kwargs)\u001b[0m\n\u001b[0;32m    133\u001b[0m        filtered_flat_args) = self._maybe_define_function(args, kwargs)\n\u001b[0;32m    134\u001b[0m     return concrete_function._call_flat(\n\u001b[1;32m--> 135\u001b[1;33m         filtered_flat_args, captured_inputs=concrete_function.captured_inputs)  # pylint: disable=protected-access\n\u001b[0m\u001b[0;32m    136\u001b[0m \u001b[1;33m\u001b[0m\u001b[0m\n\u001b[0;32m    137\u001b[0m   \u001b[1;33m@\u001b[0m\u001b[0mproperty\u001b[0m\u001b[1;33m\u001b[0m\u001b[1;33m\u001b[0m\u001b[0m\n",
      "\u001b[1;32m~\\AppData\\Local\\Packages\\PythonSoftwareFoundation.Python.3.7_qbz5n2kfra8p0\\LocalCache\\local-packages\\Python37\\site-packages\\tensorflow\\python\\eager\\polymorphic_function\\monomorphic_function.py\u001b[0m in \u001b[0;36m_call_flat\u001b[1;34m(self, args, captured_inputs, cancellation_manager)\u001b[0m\n\u001b[0;32m   1744\u001b[0m       \u001b[1;31m# No tape is watching; skip to running the function.\u001b[0m\u001b[1;33m\u001b[0m\u001b[1;33m\u001b[0m\u001b[1;33m\u001b[0m\u001b[0m\n\u001b[0;32m   1745\u001b[0m       return self._build_call_outputs(self._inference_function.call(\n\u001b[1;32m-> 1746\u001b[1;33m           ctx, args, cancellation_manager=cancellation_manager))\n\u001b[0m\u001b[0;32m   1747\u001b[0m     forward_backward = self._select_forward_and_backward_functions(\n\u001b[0;32m   1748\u001b[0m         \u001b[0margs\u001b[0m\u001b[1;33m,\u001b[0m\u001b[1;33m\u001b[0m\u001b[1;33m\u001b[0m\u001b[0m\n",
      "\u001b[1;32m~\\AppData\\Local\\Packages\\PythonSoftwareFoundation.Python.3.7_qbz5n2kfra8p0\\LocalCache\\local-packages\\Python37\\site-packages\\tensorflow\\python\\eager\\polymorphic_function\\monomorphic_function.py\u001b[0m in \u001b[0;36mcall\u001b[1;34m(self, ctx, args, cancellation_manager)\u001b[0m\n\u001b[0;32m    381\u001b[0m               \u001b[0minputs\u001b[0m\u001b[1;33m=\u001b[0m\u001b[0margs\u001b[0m\u001b[1;33m,\u001b[0m\u001b[1;33m\u001b[0m\u001b[1;33m\u001b[0m\u001b[0m\n\u001b[0;32m    382\u001b[0m               \u001b[0mattrs\u001b[0m\u001b[1;33m=\u001b[0m\u001b[0mattrs\u001b[0m\u001b[1;33m,\u001b[0m\u001b[1;33m\u001b[0m\u001b[1;33m\u001b[0m\u001b[0m\n\u001b[1;32m--> 383\u001b[1;33m               ctx=ctx)\n\u001b[0m\u001b[0;32m    384\u001b[0m         \u001b[1;32melse\u001b[0m\u001b[1;33m:\u001b[0m\u001b[1;33m\u001b[0m\u001b[1;33m\u001b[0m\u001b[0m\n\u001b[0;32m    385\u001b[0m           outputs = execute.execute_with_cancellation(\n",
      "\u001b[1;32m~\\AppData\\Local\\Packages\\PythonSoftwareFoundation.Python.3.7_qbz5n2kfra8p0\\LocalCache\\local-packages\\Python37\\site-packages\\tensorflow\\python\\eager\\execute.py\u001b[0m in \u001b[0;36mquick_execute\u001b[1;34m(op_name, num_outputs, inputs, attrs, ctx, name)\u001b[0m\n\u001b[0;32m     51\u001b[0m     \u001b[0mctx\u001b[0m\u001b[1;33m.\u001b[0m\u001b[0mensure_initialized\u001b[0m\u001b[1;33m(\u001b[0m\u001b[1;33m)\u001b[0m\u001b[1;33m\u001b[0m\u001b[1;33m\u001b[0m\u001b[0m\n\u001b[0;32m     52\u001b[0m     tensors = pywrap_tfe.TFE_Py_Execute(ctx._handle, device_name, op_name,\n\u001b[1;32m---> 53\u001b[1;33m                                         inputs, attrs, num_outputs)\n\u001b[0m\u001b[0;32m     54\u001b[0m   \u001b[1;32mexcept\u001b[0m \u001b[0mcore\u001b[0m\u001b[1;33m.\u001b[0m\u001b[0m_NotOkStatusException\u001b[0m \u001b[1;32mas\u001b[0m \u001b[0me\u001b[0m\u001b[1;33m:\u001b[0m\u001b[1;33m\u001b[0m\u001b[1;33m\u001b[0m\u001b[0m\n\u001b[0;32m     55\u001b[0m     \u001b[1;32mif\u001b[0m \u001b[0mname\u001b[0m \u001b[1;32mis\u001b[0m \u001b[1;32mnot\u001b[0m \u001b[1;32mNone\u001b[0m\u001b[1;33m:\u001b[0m\u001b[1;33m\u001b[0m\u001b[1;33m\u001b[0m\u001b[0m\n",
      "\u001b[1;31mKeyboardInterrupt\u001b[0m: "
     ]
    }
   ],
   "source": [
    "epochs = 1000\n",
    "\n",
    "ver = 1\n",
    "day = 20250619\n",
    "model = VAE()\n",
    "\n",
    "a2 = [0]\n",
    "b2 = [0]\n",
    "c2 = [0]\n",
    "d2 = [0]\n",
    "e2 = [0]\n",
    "f2 = [0]\n",
    "g2 = [0]\n",
    "h2 = [0]\n",
    "i2 = [0]\n",
    "j2 = [0]\n",
    "for epoch in range(1, epochs):\n",
    "    start_time = time.time()\n",
    "    d1,e1,f1,g1,h1 = 0,0,0,0,0\n",
    "    for train_x, train_y in train_dataset:\n",
    "        d, e, f, g, h =train_step(model, train_x, train_y, optimizer)\n",
    "        d1 += d\n",
    "        e1 += e\n",
    "        f1 += f\n",
    "        g1 += g\n",
    "        h1 += h\n",
    "    end_time = time.time()\n",
    "    d2.append(d1)\n",
    "    e2.append(e1)\n",
    "    f2.append(f1)\n",
    "    g2.append(g1)\n",
    "    h2.append(h1)\n",
    "    loss = tf.keras.metrics.Mean()\n",
    "    print(\"Train done\")\n",
    "    a1,b1,c1,i1,j1 = 0,0,0,0,0\n",
    "    for test_x, test_y in test_dataset:\n",
    "        a , b, c, i, j =compute_loss(model, test_x, test_y)\n",
    "        a1 += a\n",
    "        b1 += b\n",
    "        c1 += c\n",
    "        i1 += i\n",
    "        j1 += j\n",
    "        loss(a)\n",
    "    a2.append(a1)\n",
    "    b2.append(b1)\n",
    "    c2.append(c1)\n",
    "    i2.append(i1)\n",
    "    j2.append(j1)\n",
    "    print(\"Test done\")\n",
    "    print('Epoch: {}, Test loss: {:.2f}, latent: {:.2f}, vae: {:.2f}, recon: {:.2f}, kld: {:.2f},\\n\\t Train loss:{:.2f}, latent_train: {:.2f}, vae_train: {:.2f}, recon_train: {:.2f}, kld_train: {:.2f}, time: {:.2f}'\n",
    "    .format(epoch, a1/len(test_dataset), b1/len(test_dataset), c1/ len(test_dataset), i1/len(test_dataset), j1/ len(test_dataset), d1/len(train_dataset), e1/len(train_dataset), f1/ len(train_dataset),g1/len(train_dataset), h1/ len(train_dataset), end_time - start_time))\n",
    "    if epoch%500==499:\n",
    "        model.encoder.save('model/test_accept_encoder'+str(day)+'_'+str(epoch))\n",
    "        model.frequencyencoder.save('model/test_accept_freencoder'+str(day)+'_'+str(epoch))\n",
    "        model.decoder.save('model/test_accept_decoder'+str(day)+'_'+str(epoch))\n",
    "        data = {'Test loss':np.array(a2[(epoch//500)*500:])/len(test_dataset),'latent':np.array(b2[(epoch//500)*500:])/len(test_dataset),'vae':np.array(c2[(epoch//500)*500:])/len(test_dataset),'recon':np.array(i2[(epoch//500)*500:])/len(test_dataset), 'kld':np.array(j2[(epoch//500)*500:])/len(test_dataset),'train loss':np.array(d2[(epoch//500)*500:])/len(train_dataset),'latent_train':np.array(e2[(epoch//500)*500:])/len(train_dataset),'vae_train':np.array(f2[(epoch//500)*500:])/len(train_dataset),'recon_train':np.array(g2[(epoch//500)*500:])/len(train_dataset),'kld_train':np.array(h2[(epoch//500)*500:])/len(train_dataset)}\n",
    "        dataframe = pd.DataFrame(data)\n",
    "        dataframe.to_csv('model/test_accept_loss_'+str(day)+'.csv',mode='a',header=False, index=False)"
   ]
  },
  {
   "cell_type": "markdown",
   "metadata": {},
   "source": [
    "# 역설계"
   ]
  },
  {
   "cell_type": "markdown",
   "metadata": {},
   "source": [
    "## 학습된 딥러닝 모델 불러오기"
   ]
  },
  {
   "cell_type": "code",
   "execution_count": 12,
   "metadata": {},
   "outputs": [
    {
     "name": "stdout",
     "output_type": "stream",
     "text": [
      "WARNING:tensorflow:No training configuration found in save file, so the model was *not* compiled. Compile it manually.\n",
      "WARNING:tensorflow:No training configuration found in save file, so the model was *not* compiled. Compile it manually.\n",
      "WARNING:tensorflow:No training configuration found in save file, so the model was *not* compiled. Compile it manually.\n"
     ]
    }
   ],
   "source": [
    "encodermodel = tf.keras.models.load_model(\"model/inverse_design/accept_encoder20220530_11499\")\n",
    "decodermodel = tf.keras.models.load_model(\"model/inverse_design/accept_decoder20220530_11499\")\n",
    "freencodermodel = tf.keras.models.load_model(\"model/inverse_design/accept_freencoder20220530_11499\")"
   ]
  },
  {
   "cell_type": "markdown",
   "metadata": {},
   "source": [
    "## 역설계를 통한 구조 생성"
   ]
  },
  {
   "cell_type": "markdown",
   "metadata": {},
   "source": [
    "- target acoustic response 입력 >> latent value 생성\n",
    "- 구조의 latent value 는 랜덤하게 생성\n",
    "- 두 latent value 를 decoder 에 입력하여 다양한 구조 생성"
   ]
  },
  {
   "cell_type": "code",
   "execution_count": null,
   "metadata": {},
   "outputs": [
    {
     "data": {
      "image/png": "[encoded data removed]",
      "text/plain": [
       "<Figure size 2000x500 with 10 Axes>"
      ]
     },
     "metadata": {},
     "output_type": "display_data"
    },
    {
     "data": {
      "image/png": "[encoded data removed]",
      "text/plain": [
       "<Figure size 640x480 with 1 Axes>"
      ]
     },
     "metadata": {},
     "output_type": "display_data"
    }
   ],
   "source": [
    "# function\n",
    "def latent_generate_1(model, data):\n",
    "    data = np.reshape(data, (1, 50, 1))\n",
    "    train_latent_value = model(data[0].reshape((1,)+ data[0].shape))\n",
    "\n",
    "    return train_latent_value\n",
    "\n",
    "def reparameterize_random():\n",
    "    eps_list = []\n",
    "    for i in range(8):\n",
    "        while(True):\n",
    "            eps = tf.random.normal(shape=[], mean = 0, stddev = 1)\n",
    "            if (abs(eps) < 1):\n",
    "                eps_list.append(eps)\n",
    "                break\n",
    "    return eps_list\n",
    "\n",
    "def dist_decode(z_d):\n",
    "    recon_image=decodermodel(z_d)\n",
    "    a, image=cv2.threshold(np.reshape(recon_image,(128,64)),0.5,1,cv2.THRESH_BINARY)\n",
    "    image=np.array(image)\n",
    "    return image\n",
    "\n",
    "# Testset에서 랜덤한 데이터 선택\n",
    "k = np.random.randint(0, len(test_TL)-1)\n",
    "z_fre = latent_generate_1(freencodermodel, test_TL[k])\n",
    "\n",
    "# 이미지 : 랜덤한 latent variable 생성 / 응답 : Testset에서 랜덤하게 하나 생성 후 frequency decoder에 입력하여 차원 축소\n",
    "plt.figure(figsize=(20, 5))\n",
    "for i in range(10):\n",
    "    plt.subplot(1, 10, i+1)\n",
    "    \n",
    "    z_image = np.reshape(reparameterize_random(), (1, 8))\n",
    "    z_d = tf.reshape(tf.concat([z_image, z_fre], axis=0), (1, 16))\n",
    "\n",
    "    # Decoder를 통해 이미지 생성\n",
    "    reco = dist_decode(z_d)\n",
    "    reco_re = np.reshape(reco, (128, 64))\n",
    "\n",
    "    # 생성된 이미지 plot\n",
    "    plt.imshow(reco_re, cmap = 'gray')\n",
    "    plt.gca().axes.xaxis.set_visible(False)\n",
    "    plt.gca().axes.yaxis.set_visible(False)\n",
    "\n",
    "plt.show()\n",
    "\n",
    "# 선택된 응답 plot\n",
    "plt.plot(np.arange(1, 2000, 40), np.reshape(test_TL[k], (50)))\n",
    "plt.show()"
   ]
  },
  {
   "cell_type": "markdown",
   "metadata": {},
   "source": [
    "## Latent space Perturbation"
   ]
  },
  {
   "cell_type": "code",
   "execution_count": null,
   "metadata": {},
   "outputs": [
    {
     "name": "stdout",
     "output_type": "stream",
     "text": [
      "1\n",
      "2\n",
      "3\n",
      "4\n"
     ]
    },
    {
     "data": {
      "image/png": "[encoded data removed]",
      "text/plain": [
       "<Figure size 1600x800 with 64 Axes>"
      ]
     },
     "metadata": {},
     "output_type": "display_data"
    }
   ],
   "source": [
    "perturbation_list = np.arange(-1.6, 1.6, 0.2)\n",
    "plt.figure(figsize = (16, 8))\n",
    "num = 0\n",
    "for i in [0, 1, 3, 7]:\n",
    "    for j in range(len(perturbation_list)):\n",
    "\n",
    "        plt.subplot(4, len(perturbation_list), num*len(perturbation_list)+j+1)\n",
    "        \n",
    "        # i번째 latent variable을 변화시킴\n",
    "        latent_list = np.zeros((8))\n",
    "        latent_list[i] = perturbation_list[j]\n",
    "        z_d = tf.reshape(tf.concat([np.reshape(latent_list, (1, 8)), z_fre], axis=0), (1, 16))\n",
    "        \n",
    "        # Decoder를 통해 이미지 생성\n",
    "        reco = dist_decode(z_d)\n",
    "        reco_re = np.reshape(reco, (128, 64))\n",
    "\n",
    "        # 생성된 이미지 plot\n",
    "        plt.imshow(reco_re, cmap = 'gray')\n",
    "        plt.gca().axes.xaxis.set_visible(False)\n",
    "        plt.gca().axes.yaxis.set_visible(False)\n",
    "\n",
    "    num += 1\n",
    "    print(num)\n",
    "plt.show()\n"
   ]
  }
 ],
 "metadata": {
  "kernelspec": {
   "display_name": "Python 3",
   "language": "python",
   "name": "python3"
  },
  "language_info": {
   "codemirror_mode": {
    "name": "ipython",
    "version": 3
   },
   "file_extension": ".py",
   "mimetype": "text/x-python",
   "name": "python",
   "nbconvert_exporter": "python",
   "pygments_lexer": "ipython3",
   "version": "3.7.9"
  }
 },
 "nbformat": 4,
 "nbformat_minor": 2
}
